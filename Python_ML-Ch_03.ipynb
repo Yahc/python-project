{
 "cells": [
  {
   "cell_type": "markdown",
   "metadata": {},
   "source": [
    "# PART I   < Python程式設計 >\n",
    "# 3. 流程控制與資料結構\n",
    "- [3.1 流程控制](#流程控制)\n",
    "- [3.2 資料結構](#資料結構)"
   ]
  },
  {
   "cell_type": "markdown",
   "metadata": {},
   "source": [
    "<a id='流程控制'></a>\n",
    "## 3.1  流程控制\n",
    "- [if, if...else..., elif 敘述](#if, if...else..., elif 敘述)\n",
    "- [while 敘述](#while 敘述)\n",
    "- [for 敘述](#for 敘述)\n",
    "- [for ... else ... with break / continue](#for ... else ...)"
   ]
  },
  {
   "cell_type": "markdown",
   "metadata": {},
   "source": [
    "<a id='if,if...else...,elif敘述'></a>\n",
    "### if, if...else..., elif 敘述"
   ]
  },
  {
   "cell_type": "code",
   "execution_count": 1,
   "metadata": {},
   "outputs": [
    {
     "name": "stdout",
     "output_type": "stream",
     "text": [
      "Please enter a number: 0.5\n"
     ]
    }
   ],
   "source": [
    "x = float(input(\"Please enter a number: \"))"
   ]
  },
  {
   "cell_type": "code",
   "execution_count": 2,
   "metadata": {},
   "outputs": [
    {
     "data": {
      "text/plain": [
       "0.5"
      ]
     },
     "execution_count": 2,
     "metadata": {},
     "output_type": "execute_result"
    }
   ],
   "source": [
    "x"
   ]
  },
  {
   "cell_type": "code",
   "execution_count": 3,
   "metadata": {},
   "outputs": [
    {
     "name": "stdout",
     "output_type": "stream",
     "text": [
      "0.5  > 0\n"
     ]
    }
   ],
   "source": [
    "if x < 0:\n",
    "    print(x,'is less than zero !')\n",
    "elif x == 0:\n",
    "    print('0')\n",
    "elif x == 1:\n",
    "    print('1')\n",
    "else:\n",
    "    print(x,' > 0')"
   ]
  },
  {
   "cell_type": "markdown",
   "metadata": {},
   "source": [
    "- 關鍵字 elif 是 else if 縮寫，同時可以避免過多的縮排 (indentation)。\n",
    "- if ... elif ... elif ... 用法取代了了其他程式語言中的 switch 和 case 敘述語法。"
   ]
  },
  {
   "cell_type": "markdown",
   "metadata": {},
   "source": [
    "<a id='while 敘述'></a>\n",
    "### while 敘述"
   ]
  },
  {
   "cell_type": "markdown",
   "metadata": {},
   "source": [
    "#### [Example 3.1.1] 執行下列程式，計算 最⼤公因數(GCD) 和 費氏數列(Fibonacci numbers)："
   ]
  },
  {
   "cell_type": "code",
   "execution_count": 4,
   "metadata": {},
   "outputs": [
    {
     "name": "stdout",
     "output_type": "stream",
     "text": [
      " a =\t 21 \t b =\t 144\n",
      " GCD =  21\n",
      " a =\t 18 \t b =\t 21\n",
      " GCD =  18\n",
      " a =\t 3 \t b =\t 18\n",
      " GCD =  3\n",
      "\n",
      "Fibonacci numbers =  1 1 2 3 5 8 13 21 34 "
     ]
    }
   ],
   "source": [
    "# GCD: greatest common divisor\n",
    "a, b = 21, 144\n",
    "while a != 0:\n",
    "    print(' a =\\t', a,'\\t b =\\t',b)\n",
    "    a, b = b % a, a\n",
    "    print(\" GCD = \", b, end='\\n')\n",
    "\n",
    "# Fibonacci series: F(i) = F(i-1) + F(i+1)\n",
    "a, b = 0, 1\n",
    "print('\\nFibonacci numbers = ', end=' ')\n",
    "while b < 50:\n",
    "    print(b, end=' ')\n",
    "    a, b = b, a+b"
   ]
  },
  {
   "cell_type": "markdown",
   "metadata": {},
   "source": [
    "####  < EXERCISE > :\n",
    "#### 請修改上列程式，使其可以任意輸入 a 和 b 二數值，計算 GCD 和 費氏數列。"
   ]
  },
  {
   "cell_type": "markdown",
   "metadata": {},
   "source": [
    "<a id='for 敘述'></a>\n",
    "### for 敘述"
   ]
  },
  {
   "cell_type": "markdown",
   "metadata": {},
   "source": [
    "#### [ Example 3.1.2] 執⾏下列程式，分別輸出 (1)字串中的字母, (2)陣列中的元素, (3)計算字串長度."
   ]
  },
  {
   "cell_type": "code",
   "execution_count": 5,
   "metadata": {},
   "outputs": [
    {
     "name": "stdout",
     "output_type": "stream",
     "text": [
      "\n",
      ">> Print letters out of a string : 'Python 2.6.3'\n",
      " 第  1  個字⺟ : P\n",
      " 第  2  個字⺟ : y\n",
      " 第  3  個字⺟ : t\n",
      " 第  4  個字⺟ : h\n",
      " 第  5  個字⺟ : o\n",
      " 第  6  個字⺟ : n\n",
      " 第  7  個字⺟ :  \n",
      " 第  8  個字⺟ : 2\n",
      " 第  9  個字⺟ : .\n",
      " 第  10  個字⺟ : 6\n",
      " 第  11  個字⺟ : .\n",
      " 第  12  個字⺟ : 3\n",
      "\n",
      ">> Print the elements from an array...\n",
      " Language Version : R 3.4.1\n",
      " Language Version : Python 2.6.3\n",
      " Language Version : Scala 2.12.2\n",
      "\n",
      ">> Print a string length...\n",
      "R 3.4.1 \t length = 7\n",
      "Python 2.6.3 \t length = 12\n",
      "Scala 2.12.2 \t length = 12\n"
     ]
    }
   ],
   "source": [
    "## (1) Using the for-loop to print letters out of a string...\n",
    "print(\"\\n>> Print letters out of a string : 'Python 2.6.3'\") \n",
    "i=0\n",
    "for alpha in 'Python 2.6.3':\n",
    "    i=i+1\n",
    "    print(' 第 ', i, ' 個字⺟ :', alpha)\n",
    "\n",
    "    \n",
    "## (2) Using the for-loop to print the elements from an array...\n",
    "print(\"\\n>> Print the elements from an array...\")\n",
    "languages = ['R 3.4.1', 'Python 2.6.3', 'Scala 2.12.2']\n",
    "for language in languages:\n",
    "   print (' Language Version :', language)\n",
    "\n",
    "\n",
    "## (3) Measuring a string length...\n",
    "print(\"\\n>> Print a string length...\")\n",
    "for count in languages:\n",
    "    print(count, '\\t length =', len(count))"
   ]
  },
  {
   "cell_type": "markdown",
   "metadata": {},
   "source": [
    "####  < EXERCISE > :\n",
    "請修改上列程式，使其可以分別輸出:\n",
    "- (1) 中⽂字串中的⽂字 (例如:'第 10 個字母 : 6' ),\n",
    "- (2) 陣列:['⿑天⼤聖', '孫悟空', '花果山水簾洞'] 中的元素, \n",
    "- (3) 計算上述陣列中，各字串元素的長度。"
   ]
  },
  {
   "cell_type": "markdown",
   "metadata": {},
   "source": [
    "#### [ Example 3.1.3]  執⾏下列程式,複製陣列中某些字串元素,並插入至所有元素之前"
   ]
  },
  {
   "cell_type": "code",
   "execution_count": 6,
   "metadata": {},
   "outputs": [
    {
     "name": "stdout",
     "output_type": "stream",
     "text": [
      "\n",
      " fruits (before) = ['apple', 'mango', 'watermelon', 'banana', 'pineapple']\n",
      "\n",
      " f = pineapple\n",
      "\n",
      " fruits (after) = ['banana', 'mango', 'apple', 'apple', 'mango', 'watermelon', 'banana', 'pineapple']\n"
     ]
    }
   ],
   "source": [
    "## Duplicating & Inserting elements in an array...\n",
    "fruits = ['apple', 'mango', 'watermelon', 'banana', 'pineapple']\n",
    "print('\\n fruits (before) =', fruits)\n",
    "for f in fruits[:]:  # Loop over a slice copy of the entire list.\n",
    "## if (len(f) <= 8) & (len(f) >= 5): # 與下⼀一⾏行行敘述相同，差異異在括號\n",
    "      if len(f) <= 8 and len(f) >= 5:\n",
    "            fruits.insert(0, f)\n",
    "print('\\n f =', f)\n",
    "print('\\n fruits (after) =', fruits)"
   ]
  },
  {
   "cell_type": "markdown",
   "metadata": {},
   "source": [
    "####  < EXERCISE >  請修改 [ Example 3.1.3] 程式，使其可以分別依照下列⽅式輸出:\n",
    "- (1) 插入⾄原來陣列元素 banana 和 pineapple 之間, \n",
    "- (2) 設定欲複製的字串串元素長度為 len(f) <= 6 或 > 9。\n",
    "\n",
    "[ 提⽰ ] : (2) 可以⽤運算元 or 或 |"
   ]
  },
  {
   "cell_type": "markdown",
   "metadata": {},
   "source": [
    "### `range()` 函數 "
   ]
  },
  {
   "cell_type": "code",
   "execution_count": 7,
   "metadata": {},
   "outputs": [
    {
     "name": "stdout",
     "output_type": "stream",
     "text": [
      "2 3 4 5 6 7 8 9 "
     ]
    }
   ],
   "source": [
    "for i in range(2, 10):     # same as range(2, 10, 1)\n",
    "    print(i, end=' ')      # => 2 3 4 5 6 7 8 9"
   ]
  },
  {
   "cell_type": "code",
   "execution_count": 8,
   "metadata": {},
   "outputs": [
    {
     "name": "stdout",
     "output_type": "stream",
     "text": [
      "range(0, 5)\n"
     ]
    }
   ],
   "source": [
    "print(range(5))      # Only show =>  range(0, 5)"
   ]
  },
  {
   "cell_type": "code",
   "execution_count": 9,
   "metadata": {},
   "outputs": [
    {
     "data": {
      "text/plain": [
       "[0, 1, 2, 3, 4]"
      ]
     },
     "execution_count": 9,
     "metadata": {},
     "output_type": "execute_result"
    }
   ],
   "source": [
    "list(range(5))   # OUTPUT => [0, 1, 2, 3, 4]"
   ]
  },
  {
   "cell_type": "markdown",
   "metadata": {},
   "source": [
    "#### Q : `range(-15, 25, 3)` 和 `range(-15, -25, -3)` 的範圍分別為何?"
   ]
  },
  {
   "cell_type": "markdown",
   "metadata": {},
   "source": [
    "#### [ Example 3.1.4 ] : range() 函數 與 for loop"
   ]
  },
  {
   "cell_type": "code",
   "execution_count": 10,
   "metadata": {},
   "outputs": [
    {
     "name": "stdout",
     "output_type": "stream",
     "text": [
      "0 + 1 + 2 + 3 + 4 =  10\n",
      " sum(range(5)) =  10\n",
      "\n",
      "notes[ 0 ] :  ti\n",
      "notes[ 1 ] :  do\n",
      "notes[ 2 ] :  re\n",
      "notes[ 3 ] :  mi\n",
      "notes[ 4 ] :  fa\n",
      "notes[ 5 ] :  sol\n",
      "notes[ 6 ] :  la\n"
     ]
    }
   ],
   "source": [
    "## Calculating0+1+2+3+4= 10 # Example Code - 1\n",
    "s=0\n",
    "n=5\n",
    "for i in range(n): \n",
    "    s=s+i\n",
    "    print(i, end='')\n",
    "    if i < (n-1): print(end=' + ')\n",
    "print(' = ', s)\n",
    "\n",
    "# Example Code - 2\n",
    "print(' sum(range(5)) = ', sum(range(5)), end='\\n\\n')\n",
    "\n",
    "##  Using len() function\n",
    "notes = ['ti', 'do', 're', 'mi', 'fa', 'sol', 'la']\n",
    "for i in range(len(notes)):\n",
    "        print('notes[', i, '] : ', notes[i])"
   ]
  },
  {
   "cell_type": "markdown",
   "metadata": {},
   "source": [
    "<a id='for ... else ...'></a>\n",
    "### for ... else ... with break / continue 敘述"
   ]
  },
  {
   "cell_type": "markdown",
   "metadata": {},
   "source": [
    "#### [ Example 3.1.5 ] : 執⾏下列程式 - 搜尋質數 (prime number)"
   ]
  },
  {
   "cell_type": "code",
   "execution_count": 11,
   "metadata": {},
   "outputs": [
    {
     "name": "stdout",
     "output_type": "stream",
     "text": [
      "2 is a prime number !\n",
      "3 is a prime number !\n",
      "4 equals 2 * 2  >>  4 is not a prime number.\n",
      "5 is a prime number !\n",
      "6 equals 2 * 3  >>  6 is not a prime number.\n",
      "7 is a prime number !\n",
      "8 equals 2 * 4  >>  8 is not a prime number.\n",
      "9 equals 3 * 3  >>  9 is not a prime number.\n",
      "10 equals 2 * 5  >>  10 is not a prime number.\n",
      "11 is a prime number !\n",
      "12 equals 2 * 6  >>  12 is not a prime number.\n",
      "13 is a prime number !\n",
      "14 equals 2 * 7  >>  14 is not a prime number.\n",
      "15 equals 3 * 5  >>  15 is not a prime number.\n",
      "16 equals 2 * 8  >>  16 is not a prime number.\n",
      "17 is a prime number !\n",
      "18 equals 2 * 9  >>  18 is not a prime number.\n",
      "19 is a prime number !\n"
     ]
    }
   ],
   "source": [
    "##  Finding the prime numbers less than 20...\n",
    "for n in range(2, 20):\n",
    "    for x in range(2, n):\n",
    "        if n % x == 0:\n",
    "            print(n, 'equals', x, '*', n//x, end=' ') \n",
    "            break\n",
    "    else:\n",
    "        # loop fell through without finding a factor \n",
    "        print(n, 'is a prime number !')\n",
    "        continue\n",
    "    print(' >> ', n, 'is not a prime number.')"
   ]
  },
  {
   "cell_type": "markdown",
   "metadata": {},
   "source": [
    "<a id='資料結構'></a>\n",
    "## 3.2  資料結構\n",
    "- [Lists (列表)](#Lists (列表)\n",
    "- [List Comprehension (列表精簡)](#List Comprehension (列表精簡)\n",
    "- [Basic Sequence Types — list, tuple, range](#Basic Sequence Types — list, tuple, range)\n",
    "- [Tuples (元組)](#Tuples (元組))\n",
    "- [Text Sequence Type (⽂字序列資料型別) — str](#Text Sequence Type (⽂字序列資料型別)\n",
    "- [Sets (集合)](#Sets (集合)\n",
    "- [Dictionaries (字典)](#Dictionaries (字典)\n",
    "\n",
    "### Ref :  C. Alex Hu, \"Data Structures with Python\", 2018/2/22."
   ]
  },
  {
   "cell_type": "code",
   "execution_count": null,
   "metadata": {},
   "outputs": [],
   "source": []
  }
 ],
 "metadata": {
  "kernelspec": {
   "display_name": "Python 3",
   "language": "python",
   "name": "python3"
  },
  "language_info": {
   "codemirror_mode": {
    "name": "ipython",
    "version": 3
   },
   "file_extension": ".py",
   "mimetype": "text/x-python",
   "name": "python",
   "nbconvert_exporter": "python",
   "pygments_lexer": "ipython3",
   "version": "3.6.4"
  }
 },
 "nbformat": 4,
 "nbformat_minor": 2
}
