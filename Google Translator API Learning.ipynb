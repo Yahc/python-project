{
 "cells": [
  {
   "cell_type": "code",
   "execution_count": 8,
   "metadata": {},
   "outputs": [
    {
     "name": "stdout",
     "output_type": "stream",
     "text": [
      "Please keyin the transfer word or sentenc:麥當勞\n",
      "Transfer Result is : McDonald's\n"
     ]
    }
   ],
   "source": [
    "# Google Translator API Sample Code.\n",
    "from googletrans import Translator\n",
    "translate = Translator()\n",
    "Trans = input('Please keyin the transfer word or sentenc:')\n",
    "result = translate.translate(Trans)\n",
    "print('Transfer Result is : '+result.text)"
   ]
  },
  {
   "cell_type": "code",
   "execution_count": null,
   "metadata": {},
   "outputs": [],
   "source": []
  }
 ],
 "metadata": {
  "kernelspec": {
   "display_name": "Python 3",
   "language": "python",
   "name": "python3"
  },
  "language_info": {
   "codemirror_mode": {
    "name": "ipython",
    "version": 3
   },
   "file_extension": ".py",
   "mimetype": "text/x-python",
   "name": "python",
   "nbconvert_exporter": "python",
   "pygments_lexer": "ipython3",
   "version": "3.6.7"
  }
 },
 "nbformat": 4,
 "nbformat_minor": 2
}
