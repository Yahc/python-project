{
 "cells": [
  {
   "cell_type": "markdown",
   "metadata": {},
   "source": [
    "# PART I   < Python程式設計 >\n",
    "# 5. 類別與物件\n",
    "- [5.1 Classes, Scopes and Namespaces](#Classes, Scopes and Namespaces)\n",
    "- [5.2 Instance Object](#Instance Object)\n",
    "- [5.3 Method Objects vs. Function Objects](#Method Objects vs. Function Objects)\n",
    "- [5.4 Inheritance](#Inheritance)"
   ]
  },
  {
   "cell_type": "markdown",
   "metadata": {},
   "source": [
    "<a id='Classes, Scopes and Namespaces'></a>\n",
    "## 5.1  Class, Scope and Namespace\n",
    "- [5.1.1 Class](#Class)\n",
    "- [5.1.2 Scope and Namespace](#Scope and Namespace)"
   ]
  },
  {
   "cell_type": "markdown",
   "metadata": {},
   "source": [
    "<a id='Class'></a>\n",
    "### 5.1.1 Class\n",
    "### Defining a Class"
   ]
  },
  {
   "cell_type": "code",
   "execution_count": 1,
   "metadata": {},
   "outputs": [],
   "source": [
    "class MyClass:\n",
    "    \"\"\"Writing my class...\"\"\"\n",
    "    text = 'Hello MyClass!'\n",
    "\n",
    "    def func(self):\n",
    "        return self.text"
   ]
  },
  {
   "cell_type": "markdown",
   "metadata": {},
   "source": [
    "###    \n",
    "### Creating an instance of MyClass..."
   ]
  },
  {
   "cell_type": "code",
   "execution_count": 2,
   "metadata": {},
   "outputs": [
    {
     "data": {
      "text/plain": [
       "'Hello MyClass!'"
      ]
     },
     "execution_count": 2,
     "metadata": {},
     "output_type": "execute_result"
    }
   ],
   "source": [
    "myObject = MyClass()\n",
    "myObject.func()"
   ]
  },
  {
   "cell_type": "markdown",
   "metadata": {},
   "source": [
    "###   \n",
    "### Initiating with the `__init__()` method"
   ]
  },
  {
   "cell_type": "code",
   "execution_count": 3,
   "metadata": {},
   "outputs": [
    {
     "data": {
      "text/plain": [
       "(3.0, -4.5)"
      ]
     },
     "execution_count": 3,
     "metadata": {},
     "output_type": "execute_result"
    }
   ],
   "source": [
    "class Complex:\n",
    "     def __init__(self, realpart, imagpart):\n",
    "         self.r = realpart\n",
    "         self.i = imagpart\n",
    "\n",
    "c = Complex(3.0, -4.5)\n",
    "c.r, c.i"
   ]
  },
  {
   "cell_type": "markdown",
   "metadata": {},
   "source": [
    "<a id='Scope and Namespace'></a>\n",
    "### 5.1.2 Scope and Namespace\n",
    "#### `global` and `nonlocal` statement"
   ]
  },
  {
   "cell_type": "code",
   "execution_count": 4,
   "metadata": {},
   "outputs": [
    {
     "name": "stdout",
     "output_type": "stream",
     "text": [
      "After local assignment: test spam\n",
      "After nonlocal assignment: nonlocal spam\n",
      "After global assignment: nonlocal spam\n",
      "In global scope: global spam\n"
     ]
    }
   ],
   "source": [
    "def scope_test():\n",
    "    def do_local():\n",
    "        spam = \"local spam\"\n",
    "\n",
    "    def do_nonlocal():\n",
    "        nonlocal spam\n",
    "        spam = \"nonlocal spam\"\n",
    "\n",
    "    def do_global():\n",
    "        global spam\n",
    "        spam = \"global spam\"\n",
    "\n",
    "    spam = \"test spam\"\n",
    "    do_local()\n",
    "    print(\"After local assignment:\", spam)\n",
    "    do_nonlocal()\n",
    "    print(\"After nonlocal assignment:\", spam)\n",
    "    do_global()\n",
    "    print(\"After global assignment:\", spam)\n",
    "\n",
    "scope_test()\n",
    "print(\"In global scope:\", spam)"
   ]
  },
  {
   "cell_type": "code",
   "execution_count": null,
   "metadata": {},
   "outputs": [],
   "source": []
  },
  {
   "cell_type": "markdown",
   "metadata": {},
   "source": [
    "### [ Example 5.1  MyClass0 ] : 請執⾏下列程式，檢視輸出結果。"
   ]
  },
  {
   "cell_type": "code",
   "execution_count": 5,
   "metadata": {},
   "outputs": [
    {
     "name": "stdout",
     "output_type": "stream",
     "text": [
      "\n",
      " << MyClass0 >> ****** \n",
      "x0.__doc__ =  A simple class for testing...\n",
      "x0.__init__ =  <method-wrapper '__init__' of MyClass0 object at 0x1075ba320>\n",
      "x0.i =  0\n",
      "<__main__.MyClass0 object at 0x1075ba320>\n",
      "\n",
      "*** Calling x0.f1()... \n",
      " hello MyClass0\n",
      "\t\t << end of MyClass0 >> \n",
      "\n"
     ]
    }
   ],
   "source": [
    "class MyClass0:\n",
    "    \"\"\"A simple class for testing...\"\"\"\n",
    "    i = 0         # class variable\n",
    "    def f1(self):\n",
    "        print(self)\n",
    "        return 'hello MyClass0'\n",
    "\n",
    "data = 3000  # global variable\n",
    "    \n",
    "##  Execution command lines...\n",
    "# Instantiation of a class : Using constructor to create an object \n",
    "x0 = MyClass0()\n",
    "print('\\n << MyClass0 >> ****** ')\n",
    "print('x0.__doc__ = ', x0.__doc__)\n",
    "print('x0.__init__ = ', x0.__init__)\n",
    "print('x0.i = ', x0.i)\n",
    "print('\\n*** Calling x0.f1()... \\n', x0.f1())\n",
    "print('\\t\\t << end of MyClass0 >> \\n')"
   ]
  },
  {
   "cell_type": "markdown",
   "metadata": {},
   "source": [
    "### [ Example 5.2 MyClass1 ] : 請執⾏下列程式，檢視輸出結果。"
   ]
  },
  {
   "cell_type": "code",
   "execution_count": 6,
   "metadata": {},
   "outputs": [
    {
     "name": "stdout",
     "output_type": "stream",
     "text": [
      "\n",
      " << MyClass1 >> ****** \n",
      "x1.__doc__ =  Another simple class for testing...\n",
      "x1.__init__ =  <bound method MyClass1.__init__ of <__main__.MyClass1 object at 0x1075bb0b8>>\n",
      "x1.i =  1000\n",
      "x1.data =  []\n",
      "x1.data.append(10) =  [10]\n",
      "x1.data.append(x1.i) =  [10, 1000]\n",
      "<__main__.MyClass1 object at 0x1075bb0b8>\n",
      "\n",
      "***  Calling x1.f1()... \n",
      " hello MyClass1.f1()\n",
      "\n",
      "<__main__.MyClass1 object at 0x1075bb0b8> 1000\n",
      "\n",
      "***  Calling x1.f2(x1.i)... \n",
      " hi there, MyClass1.f2(1000)\n",
      "\t\t << end of MyClass1 >> \n",
      "\n"
     ]
    }
   ],
   "source": [
    "class MyClass1:\n",
    "    \"\"\"Another simple class for testing...\"\"\"\n",
    "    i = 1000            # class variable\n",
    "    def f1(self):\n",
    "        print(self)\n",
    "        return 'hello MyClass1.f1()'\n",
    "    def f2(x,y):\n",
    "        print(x, y)\n",
    "        return 'hi there, MyClass1.f2(' + str(x1.i) + ')'\n",
    "    def __init__(self):\n",
    "        self.data = []        # instance variable\n",
    "        \n",
    "data = 3000  # global variable\n",
    "\n",
    "x1 = MyClass1() # Instantiation of MyClass1 by its constructor \n",
    "print('\\n << MyClass1 >> ****** ')\n",
    "print('x1.__doc__ = ', x1.__doc__)\n",
    "print('x1.__init__ = ', x1.__init__)\n",
    "print('x1.i = ', x1.i)\n",
    "print('x1.data = ', x1.data)\n",
    "x1.data.append(10)\n",
    "print('x1.data.append(10) = ', x1.data)\n",
    "x1.data.append(x1.i)\n",
    "print('x1.data.append(x1.i) = ', x1.data)\n",
    "print('\\n***  Calling x1.f1()... \\n', x1.f1(), end='\\n\\n')\n",
    "print('\\n***  Calling x1.f2(x1.i)... \\n', x1.f2(x1.i))\n",
    "print('\\t\\t << end of MyClass1 >> \\n')"
   ]
  },
  {
   "cell_type": "markdown",
   "metadata": {},
   "source": [
    "### [ Example 5.3 MyClass2 ] : 請執⾏下列程式，檢視輸出結果。"
   ]
  },
  {
   "cell_type": "code",
   "execution_count": 7,
   "metadata": {},
   "outputs": [
    {
     "name": "stdout",
     "output_type": "stream",
     "text": [
      " => In MyClass2.__init__ :  <__main__.MyClass2 object at 0x1075bac50> 2002 3000\n",
      "\n",
      " << MyClass2 >> ****** \n",
      "x2.__doc__ =  A class for testing scopes...\n",
      "x2.__init__ =  <bound method MyClass2.__init__ of <__main__.MyClass2 object at 0x1075bac50>>\n",
      "x2.i =  2000\n",
      "x2.data =  2002\n",
      "x2.list =  [11, 22]\n",
      "<__main__.MyClass2 object at 0x1075bac50>\n",
      " => In MyClass2.f2() :  <__main__.MyClass2 object at 0x1075bac50> 2002 2004\n",
      " => Out of MyClass2.f2() :  <__main__.MyClass2 object at 0x1075bac50> 2002 2003\n",
      "\n",
      "*** Calling x2.f1()... \n",
      " Hello Python !!\n",
      "\t\t << end of MyClass2 >> \n",
      "\n"
     ]
    }
   ],
   "source": [
    "class MyClass2:\n",
    "    \"\"\"A class for testing scopes...\"\"\"\n",
    "    i = 2000          # class variable\n",
    "    data = 2002       # class variable\n",
    "    \n",
    "    def f1(self): \n",
    "        print(self)\n",
    "        data = 2003\n",
    "        def f2():\n",
    "            # nonlocal data\n",
    "            data = 2004\n",
    "            ## global data\n",
    "            print(' => In MyClass2.f2() : ', self, self.data, data)\n",
    "        f2()\n",
    "        print(' => Out of MyClass2.f2() : ', self, self.data, data)\n",
    "        return 'Hello Python !!'\n",
    "    \n",
    "    def __init__(self, x, y):\n",
    "        # self.data = data\n",
    "        self.data = self.data       # instance variable\n",
    "        self.list = [x, y]\n",
    "        print(' => In MyClass2.__init__ : ', self, self.data, data)\n",
    "        \n",
    "data = 3000  # global variable\n",
    "\n",
    "# Instantiation & initialization of MyClass2 by its constructor \n",
    "x2 = MyClass2(11, 22)\n",
    "print('\\n << MyClass2 >> ****** ')\n",
    "print('x2.__doc__ = ', x2.__doc__)\n",
    "print('x2.__init__ = ', x2.__init__)\n",
    "print('x2.i = ', x2.i)\n",
    "print('x2.data = ', x2.data)\n",
    "print('x2.list = ', x2.list)\n",
    "print('\\n*** Calling x2.f1()... \\n', x2.f1())\n",
    "print('\\t\\t << end of MyClass2 >> \\n')"
   ]
  },
  {
   "cell_type": "markdown",
   "metadata": {},
   "source": [
    "<a id='Instance Object'></a>\n",
    "## 5.2  Instance Object\n",
    "- Instance Object includes data attributes & methods.\n",
    "    - `instance variables` are for data unique to each instance and\n",
    "    - `class variables` are for attributes and methods shared by all instances of the class"
   ]
  },
  {
   "cell_type": "markdown",
   "metadata": {},
   "source": [
    "### Instance Variables vs. Class Variables"
   ]
  },
  {
   "cell_type": "code",
   "execution_count": 8,
   "metadata": {},
   "outputs": [
    {
     "data": {
      "text/plain": [
       "2000"
      ]
     },
     "execution_count": 8,
     "metadata": {},
     "output_type": "execute_result"
    }
   ],
   "source": [
    "x2.i"
   ]
  },
  {
   "cell_type": "code",
   "execution_count": 9,
   "metadata": {},
   "outputs": [
    {
     "data": {
      "text/plain": [
       "2000"
      ]
     },
     "execution_count": 9,
     "metadata": {},
     "output_type": "execute_result"
    }
   ],
   "source": [
    "MyClass2.i"
   ]
  },
  {
   "cell_type": "code",
   "execution_count": 10,
   "metadata": {},
   "outputs": [
    {
     "data": {
      "text/plain": [
       "2002"
      ]
     },
     "execution_count": 10,
     "metadata": {},
     "output_type": "execute_result"
    }
   ],
   "source": [
    "x2.data"
   ]
  },
  {
   "cell_type": "code",
   "execution_count": 11,
   "metadata": {},
   "outputs": [
    {
     "data": {
      "text/plain": [
       "2002"
      ]
     },
     "execution_count": 11,
     "metadata": {},
     "output_type": "execute_result"
    }
   ],
   "source": [
    "MyClass2.data"
   ]
  },
  {
   "cell_type": "code",
   "execution_count": 12,
   "metadata": {},
   "outputs": [
    {
     "data": {
      "text/plain": [
       "[11, 22]"
      ]
     },
     "execution_count": 12,
     "metadata": {},
     "output_type": "execute_result"
    }
   ],
   "source": [
    "x2.list"
   ]
  },
  {
   "cell_type": "code",
   "execution_count": 13,
   "metadata": {},
   "outputs": [
    {
     "ename": "AttributeError",
     "evalue": "type object 'MyClass2' has no attribute 'list'",
     "output_type": "error",
     "traceback": [
      "\u001b[0;31m---------------------------------------------------------------------------\u001b[0m",
      "\u001b[0;31mAttributeError\u001b[0m                            Traceback (most recent call last)",
      "\u001b[0;32m<ipython-input-13-4d79634b443d>\u001b[0m in \u001b[0;36m<module>\u001b[0;34m()\u001b[0m\n\u001b[0;32m----> 1\u001b[0;31m \u001b[0mMyClass2\u001b[0m\u001b[0;34m.\u001b[0m\u001b[0mlist\u001b[0m\u001b[0;34m\u001b[0m\u001b[0m\n\u001b[0m",
      "\u001b[0;31mAttributeError\u001b[0m: type object 'MyClass2' has no attribute 'list'"
     ]
    }
   ],
   "source": [
    "MyClass2.list"
   ]
  },
  {
   "cell_type": "markdown",
   "metadata": {},
   "source": [
    "<a id='Method Objects vs. Function Objects'></a>\n",
    "## 5.3  Method Objects vs. Function Objects"
   ]
  },
  {
   "cell_type": "code",
   "execution_count": 14,
   "metadata": {},
   "outputs": [
    {
     "name": "stdout",
     "output_type": "stream",
     "text": [
      "<__main__.MyClass2 object at 0x1075bac50>\n",
      " => In MyClass2.f2() :  <__main__.MyClass2 object at 0x1075bac50> 2002 2004\n",
      " => Out of MyClass2.f2() :  <__main__.MyClass2 object at 0x1075bac50> 2002 2003\n"
     ]
    },
    {
     "data": {
      "text/plain": [
       "'Hello Python !!'"
      ]
     },
     "execution_count": 14,
     "metadata": {},
     "output_type": "execute_result"
    }
   ],
   "source": [
    "## x2.f1 passing one default parameter, x2.\n",
    ">>> x2.f1() # method object : x2f1 = x2.f1 => a method called by x2"
   ]
  },
  {
   "cell_type": "code",
   "execution_count": 15,
   "metadata": {},
   "outputs": [
    {
     "name": "stdout",
     "output_type": "stream",
     "text": [
      "<__main__.MyClass2 object at 0x1075bac50>\n",
      " => In MyClass2.f2() :  <__main__.MyClass2 object at 0x1075bac50> 2002 2004\n",
      " => Out of MyClass2.f2() :  <__main__.MyClass2 object at 0x1075bac50> 2002 2003\n"
     ]
    },
    {
     "data": {
      "text/plain": [
       "'Hello Python !!'"
      ]
     },
     "execution_count": 15,
     "metadata": {},
     "output_type": "execute_result"
    }
   ],
   "source": [
    "# function object : MyClass2.f1() => passing x2 as parameter\n",
    "MyClass2.f1(x2) "
   ]
  },
  {
   "cell_type": "code",
   "execution_count": 16,
   "metadata": {},
   "outputs": [
    {
     "name": "stdout",
     "output_type": "stream",
     "text": [
      "<__main__.MyClass1 object at 0x1075bb0b8> 5000\n"
     ]
    },
    {
     "data": {
      "text/plain": [
       "'hi there, MyClass1.f2(1000)'"
      ]
     },
     "execution_count": 16,
     "metadata": {},
     "output_type": "execute_result"
    }
   ],
   "source": [
    "## x1.f2() passing 2 parameters : including one default parameter, x2.\n",
    ">>> x1.f2(5000) # method object :  passing x2 by default & 5000"
   ]
  },
  {
   "cell_type": "code",
   "execution_count": 17,
   "metadata": {},
   "outputs": [
    {
     "name": "stdout",
     "output_type": "stream",
     "text": [
      "<__main__.MyClass1 object at 0x1075bb0b8> 5000\n"
     ]
    },
    {
     "data": {
      "text/plain": [
       "'hi there, MyClass1.f2(1000)'"
      ]
     },
     "execution_count": 17,
     "metadata": {},
     "output_type": "execute_result"
    }
   ],
   "source": [
    "# function object => passing a list of 2 parameters\n",
    ">>> MyClass1.f2(x1,5000) "
   ]
  },
  {
   "cell_type": "markdown",
   "metadata": {},
   "source": [
    "<a id='Inheritance'></a>\n",
    "## 5.4  Inheritance"
   ]
  },
  {
   "cell_type": "markdown",
   "metadata": {},
   "source": [
    "### Method Override & Private Variables"
   ]
  },
  {
   "cell_type": "code",
   "execution_count": 18,
   "metadata": {},
   "outputs": [],
   "source": [
    "class Mapping:\n",
    "    def __init__(self, iterable):\n",
    "        self.items_list = []\n",
    "        self.__update(iterable)\n",
    "    def update(self, iterable):\n",
    "        for item in iterable:\n",
    "            self.items_list.append(item)\n",
    "            \n",
    "    __update = update # private copy of original update() method\n",
    "    \n",
    "class MappingSubclass(Mapping):\n",
    "    def update(self, keys, values):\n",
    "        # provides new signature for update()\n",
    "        # but does not break __init__()\n",
    "        for item in zip(keys, values):\n",
    "            self.items_list.append(item)"
   ]
  },
  {
   "cell_type": "code",
   "execution_count": 19,
   "metadata": {},
   "outputs": [
    {
     "data": {
      "text/plain": [
       "<__main__.Mapping at 0x1075ba908>"
      ]
     },
     "execution_count": 19,
     "metadata": {},
     "output_type": "execute_result"
    }
   ],
   "source": [
    "x = [1, 2, 3, 5, 8]\n",
    "y = Mapping(x)\n",
    "y"
   ]
  },
  {
   "cell_type": "code",
   "execution_count": 20,
   "metadata": {},
   "outputs": [
    {
     "data": {
      "text/plain": [
       "[1, 2, 3, 5, 8]"
      ]
     },
     "execution_count": 20,
     "metadata": {},
     "output_type": "execute_result"
    }
   ],
   "source": [
    "y.items_list"
   ]
  },
  {
   "cell_type": "code",
   "execution_count": 21,
   "metadata": {},
   "outputs": [
    {
     "data": {
      "text/plain": [
       "<__main__.MappingSubclass at 0x1075ba828>"
      ]
     },
     "execution_count": 21,
     "metadata": {},
     "output_type": "execute_result"
    }
   ],
   "source": [
    "y_sub = MappingSubclass(x)\n",
    "y_sub"
   ]
  },
  {
   "cell_type": "code",
   "execution_count": 22,
   "metadata": {},
   "outputs": [
    {
     "data": {
      "text/plain": [
       "[1, 2, 3, 5, 8]"
      ]
     },
     "execution_count": 22,
     "metadata": {},
     "output_type": "execute_result"
    }
   ],
   "source": [
    "y_sub.items_list"
   ]
  },
  {
   "cell_type": "code",
   "execution_count": 23,
   "metadata": {},
   "outputs": [
    {
     "data": {
      "text/plain": [
       "[1, 2, 3, 5, 8, (1, 1), (2, 2), (3, 3), (5, 5), (8, 8)]"
      ]
     },
     "execution_count": 23,
     "metadata": {},
     "output_type": "execute_result"
    }
   ],
   "source": [
    "y_sub.update(x, x)\n",
    "y_sub.items_list"
   ]
  },
  {
   "cell_type": "code",
   "execution_count": null,
   "metadata": {},
   "outputs": [],
   "source": []
  }
 ],
 "metadata": {
  "kernelspec": {
   "display_name": "Python 3",
   "language": "python",
   "name": "python3"
  },
  "language_info": {
   "codemirror_mode": {
    "name": "ipython",
    "version": 3
   },
   "file_extension": ".py",
   "mimetype": "text/x-python",
   "name": "python",
   "nbconvert_exporter": "python",
   "pygments_lexer": "ipython3",
   "version": "3.6.4"
  }
 },
 "nbformat": 4,
 "nbformat_minor": 2
}
