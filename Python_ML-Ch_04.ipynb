{
 "cells": [
  {
   "cell_type": "markdown",
   "metadata": {},
   "source": [
    "# PART I   < Python程式設計 >\n",
    "# 4. 函式與模組\n",
    "- [4.1 函式(Functons)](#函式(Functions)\n",
    "- [4.2 模組(Modules)](#模組(Modules)\n"
   ]
  },
  {
   "cell_type": "markdown",
   "metadata": {},
   "source": [
    "<a id='函式(Functons'></a>\n",
    "## 4.1 函式(Functons)\n",
    "- [4.1.1 定義函式](#定義函式)\n",
    "- [4.1.2 回傳值 (return values)](#回傳值(return values)\n",
    "- [4.1.3 函式的參數/引數 (parameters/arguments)](#函式的參數/引數)"
   ]
  },
  {
   "cell_type": "markdown",
   "metadata": {},
   "source": [
    "<a id='定義函式'></a>\n",
    "### 4.1.1 定義函式\n",
    "- 關鍵字 def ⽤於定義函式，其後為函式名稱與參數列，最後需要加冒號(:)。函式的程式內容開始於下⼀行。\n",
    "- 函式的程式內容部份，必須要縮排 (indentation)。\n",
    "- 函式的第⼀行敘述可以是 “⽂件字串(docstring)”，用於說明函式內容。"
   ]
  },
  {
   "cell_type": "markdown",
   "metadata": {},
   "source": [
    "### [Example 4.1.1]  定義函式 gcd(a, b) 求解 a, b ⼆數的最⼤公因數(GCD):"
   ]
  },
  {
   "cell_type": "code",
   "execution_count": 1,
   "metadata": {},
   "outputs": [
    {
     "name": "stdout",
     "output_type": "stream",
     "text": [
      " a =  21 \t b =  144\n",
      " a =  144 \t b =  21\n",
      " a =  21 \t b =  18\n",
      " a =  18 \t b =  3\n",
      " *** GCD = 3\n",
      "\n"
     ]
    }
   ],
   "source": [
    "def gcd(a, b):    # Calculating GCD...\n",
    "    \"\"\"Print GCD from 2 numbers.\"\"\"\n",
    "    while b != 0:\n",
    "            print(' a = ', a, '\\t b = ', b, end='\\n')\n",
    "            a, b = b, a%b\n",
    "    print(' *** GCD =', a, end=\"\\n\\n\")\n",
    "    \n",
    "gcd(21, 144)    ##  gcd(144, 21)"
   ]
  },
  {
   "cell_type": "code",
   "execution_count": 2,
   "metadata": {},
   "outputs": [
    {
     "name": "stdout",
     "output_type": "stream",
     "text": [
      " a =  225 \t b =  99\n",
      " a =  99 \t b =  27\n",
      " a =  27 \t b =  18\n",
      " a =  18 \t b =  9\n",
      " *** GCD = 9\n",
      "\n"
     ]
    }
   ],
   "source": [
    "a = 225 \n",
    "b = 99 \n",
    "gcd(a, b)    # Calling the function ..."
   ]
  },
  {
   "cell_type": "code",
   "execution_count": 3,
   "metadata": {},
   "outputs": [
    {
     "name": "stdout",
     "output_type": "stream",
     "text": [
      "225 99\n"
     ]
    }
   ],
   "source": [
    "print(a, b)  "
   ]
  },
  {
   "cell_type": "markdown",
   "metadata": {},
   "source": [
    "### 重新命名函數 (General Renaming for Functions)\n",
    "- A function definition introduces the function name in the current symbol table.\n",
    "- The value of the function name has a type that is recognized by the interpreter as a user-defined function."
   ]
  },
  {
   "cell_type": "code",
   "execution_count": 4,
   "metadata": {},
   "outputs": [
    {
     "data": {
      "text/plain": [
       "<function __main__.gcd>"
      ]
     },
     "execution_count": 4,
     "metadata": {},
     "output_type": "execute_result"
    }
   ],
   "source": [
    "gcd"
   ]
  },
  {
   "cell_type": "code",
   "execution_count": 5,
   "metadata": {},
   "outputs": [
    {
     "data": {
      "text/plain": [
       "<function __main__.gcd>"
      ]
     },
     "execution_count": 5,
     "metadata": {},
     "output_type": "execute_result"
    }
   ],
   "source": [
    "g = gcd      # Renaming gcd with g\n",
    "g"
   ]
  },
  {
   "cell_type": "code",
   "execution_count": 6,
   "metadata": {},
   "outputs": [
    {
     "name": "stdout",
     "output_type": "stream",
     "text": [
      " a =  99 \t b =  225\n",
      " a =  225 \t b =  99\n",
      " a =  99 \t b =  27\n",
      " a =  27 \t b =  18\n",
      " a =  18 \t b =  9\n",
      " *** GCD = 9\n",
      "\n"
     ]
    }
   ],
   "source": [
    "g(99, 225)"
   ]
  },
  {
   "cell_type": "markdown",
   "metadata": {},
   "source": [
    "<a id='回傳值(return values'></a>\n",
    "### 4.1.2 回傳值 (return values)\n",
    "- Python 的函式都會回傳數值;即便是沒有 `return` 敘述，也會回傳 `None`，我們可以經由 `print()` 函式查看。"
   ]
  },
  {
   "cell_type": "code",
   "execution_count": 7,
   "metadata": {},
   "outputs": [
    {
     "name": "stdout",
     "output_type": "stream",
     "text": [
      " a =  99 \t b =  225\n",
      " a =  225 \t b =  99\n",
      " a =  99 \t b =  27\n",
      " a =  27 \t b =  18\n",
      " a =  18 \t b =  9\n",
      " *** GCD = 9\n",
      "\n",
      "None\n"
     ]
    }
   ],
   "source": [
    "print(g(99, 225))"
   ]
  },
  {
   "cell_type": "markdown",
   "metadata": {},
   "source": [
    "### `return` 關鍵字的⽤法:"
   ]
  },
  {
   "cell_type": "code",
   "execution_count": 8,
   "metadata": {},
   "outputs": [
    {
     "data": {
      "text/plain": [
       "60.0"
      ]
     },
     "execution_count": 8,
     "metadata": {},
     "output_type": "execute_result"
    }
   ],
   "source": [
    "def triple(x): \n",
    "    return x * 3\n",
    "\n",
    "t_val = triple(20.0) # Save the return value in t_val.\n",
    "t_val                # Show the value in t_val."
   ]
  },
  {
   "cell_type": "code",
   "execution_count": 9,
   "metadata": {},
   "outputs": [
    {
     "name": "stdout",
     "output_type": "stream",
     "text": [
      "60.0\n"
     ]
    }
   ],
   "source": [
    "print(t_val)   # Print the value in t_val."
   ]
  },
  {
   "cell_type": "code",
   "execution_count": 10,
   "metadata": {},
   "outputs": [
    {
     "data": {
      "text/plain": [
       "15"
      ]
     },
     "execution_count": 10,
     "metadata": {},
     "output_type": "execute_result"
    }
   ],
   "source": [
    "triple(5)     # Return an integer value."
   ]
  },
  {
   "cell_type": "code",
   "execution_count": 11,
   "metadata": {},
   "outputs": [
    {
     "data": {
      "text/plain": [
       "15.0"
      ]
     },
     "execution_count": 11,
     "metadata": {},
     "output_type": "execute_result"
    }
   ],
   "source": [
    "triple(5.0)   # Return a floating value. "
   ]
  },
  {
   "cell_type": "code",
   "execution_count": 12,
   "metadata": {},
   "outputs": [
    {
     "data": {
      "text/plain": [
       "'555'"
      ]
     },
     "execution_count": 12,
     "metadata": {},
     "output_type": "execute_result"
    }
   ],
   "source": [
    "triple('5')   # Return a sting value."
   ]
  },
  {
   "cell_type": "markdown",
   "metadata": {},
   "source": [
    "#### [NOTE]:  Functions can pass different objects; hence, they are “typeless” (無關於資料型態)."
   ]
  },
  {
   "cell_type": "markdown",
   "metadata": {},
   "source": [
    "####   \n",
    "### 利用關鍵字 return，減化程式敘述\n",
    "### `return` 和 `if... else...` 條件式:"
   ]
  },
  {
   "cell_type": "code",
   "execution_count": 13,
   "metadata": {},
   "outputs": [
    {
     "data": {
      "text/plain": [
       "9"
      ]
     },
     "execution_count": 13,
     "metadata": {},
     "output_type": "execute_result"
    }
   ],
   "source": [
    "def g(x, y):\n",
    "    return x if y == 0 else g(y, x%y)\n",
    "\n",
    "g(99, 225)    ##  g(225, 9)"
   ]
  },
  {
   "cell_type": "markdown",
   "metadata": {},
   "source": [
    "### Q : 請問，上列程式中，g(x,y) 函數在計算且回傳什麼結果? [ HINT : Recursion ]"
   ]
  },
  {
   "cell_type": "markdown",
   "metadata": {},
   "source": [
    "### < EXERCISE >   請利用 return 關鍵字，定義⼀個函數計算 “階乘 (factorial)” : n!。"
   ]
  },
  {
   "cell_type": "markdown",
   "metadata": {},
   "source": [
    "####   \n",
    "### `return` 和 `lambda` 運算式 (亦即 匿名函數 [anonymous function]):"
   ]
  },
  {
   "cell_type": "code",
   "execution_count": 14,
   "metadata": {},
   "outputs": [],
   "source": [
    "def power(n):\n",
    "    return lambda x: x**n"
   ]
  },
  {
   "cell_type": "code",
   "execution_count": 15,
   "metadata": {},
   "outputs": [
    {
     "data": {
      "text/plain": [
       "<function __main__.power.<locals>.<lambda>>"
      ]
     },
     "execution_count": 15,
     "metadata": {},
     "output_type": "execute_result"
    }
   ],
   "source": [
    "power(5)"
   ]
  },
  {
   "cell_type": "code",
   "execution_count": 16,
   "metadata": {},
   "outputs": [],
   "source": [
    "p = power(5) # Similar to p(x) = x**5 in math. "
   ]
  },
  {
   "cell_type": "code",
   "execution_count": 17,
   "metadata": {},
   "outputs": [
    {
     "data": {
      "text/plain": [
       "32"
      ]
     },
     "execution_count": 17,
     "metadata": {},
     "output_type": "execute_result"
    }
   ],
   "source": [
    "p(2)"
   ]
  },
  {
   "cell_type": "code",
   "execution_count": 18,
   "metadata": {},
   "outputs": [
    {
     "data": {
      "text/plain": [
       "3125.0"
      ]
     },
     "execution_count": 18,
     "metadata": {},
     "output_type": "execute_result"
    }
   ],
   "source": [
    "p(5.0)"
   ]
  },
  {
   "cell_type": "markdown",
   "metadata": {},
   "source": [
    "### [ Example 4.1.2 ] 修改 gcd(a, b) 函數，回傳運算過程的 a 值，如下:"
   ]
  },
  {
   "cell_type": "code",
   "execution_count": 19,
   "metadata": {},
   "outputs": [],
   "source": [
    "def gcd(a, b): # Calculating GCD & Return Values ... \n",
    "    \"\"\"Print GCD from 2 numbers & return values.\"\"\" \n",
    "    gcd_result = [] # Creating a list object ...\n",
    "    while b != 0:\n",
    "        gcd_result.append(a) # Calling method, append, of the object \n",
    "        print(' a = ', a, '\\t b = ', b, end='\\n')\n",
    "        a, b = b, a%b\n",
    "    print(' ***  GCD =', a)\n",
    "    gcd_result.append(a)\n",
    "    return gcd_result"
   ]
  },
  {
   "cell_type": "code",
   "execution_count": 20,
   "metadata": {},
   "outputs": [
    {
     "name": "stdout",
     "output_type": "stream",
     "text": [
      " a =  1024 \t b =  48\n",
      " a =  48 \t b =  16\n",
      " ***  GCD = 16\n"
     ]
    }
   ],
   "source": [
    "value = gcd(1024,48) # Saving the result ..."
   ]
  },
  {
   "cell_type": "code",
   "execution_count": 21,
   "metadata": {},
   "outputs": [
    {
     "name": "stdout",
     "output_type": "stream",
     "text": [
      "[1024, 48, 16]\n"
     ]
    }
   ],
   "source": [
    "print(value)"
   ]
  },
  {
   "cell_type": "markdown",
   "metadata": {},
   "source": [
    "<a id='函式的參數/引數'></a>\n",
    "### 4.1.3  函式的參數/引數 (parameters/arguments)"
   ]
  },
  {
   "cell_type": "markdown",
   "metadata": {},
   "source": [
    "### 預設引數值 (Default Argument Values)\n",
    "- The most useful form is to specify a default value for one or more arguments."
   ]
  },
  {
   "cell_type": "code",
   "execution_count": 22,
   "metadata": {},
   "outputs": [],
   "source": [
    "def ask_ok(prompt, retries=4, reminder='Please try again!'): \n",
    "    while True:\n",
    "        ok = input(prompt)\n",
    "        if ok in ('y', 'ye', 'yes'):\n",
    "            return True\n",
    "        if ok in ('n', 'no', 'nop', 'nope'):\n",
    "            return False\n",
    "        retries = retries - 1 \n",
    "        if retries < 0:\n",
    "            raise ValueError('invalid user response') \n",
    "        print(reminder)\n",
    "        \n",
    "##  This function can be called in several ways: \n",
    "##  • giving only the mandatory argument:\n",
    "##      ask_ok('Do you really want to quit?')\n",
    "##  • giving one of the optional arguments: \n",
    "##      ask_ok('OK to overwrite the file?', 2)\n",
    "##  • or even giving all arguments:\n",
    "##      ask_ok('OK to overwrite the file?', 2, 'Come on, only yes or no!')"
   ]
  },
  {
   "cell_type": "markdown",
   "metadata": {},
   "source": [
    "- The default values are evaluated at the point of function definition in the defining scope."
   ]
  },
  {
   "cell_type": "code",
   "execution_count": 23,
   "metadata": {},
   "outputs": [
    {
     "name": "stdout",
     "output_type": "stream",
     "text": [
      "100\n"
     ]
    }
   ],
   "source": [
    "x = 100\n",
    "\n",
    "def test(arg = x):\n",
    "    print(arg)\n",
    "    \n",
    "x = 101\n",
    "test()   ##  <OUTPUT>: 100 (not 101) =>  Why?"
   ]
  },
  {
   "cell_type": "markdown",
   "metadata": {},
   "source": [
    "- The default value is evaluated only once. `This makes a difference when the default is a mutable object such as a list, dictionary, or instances of most classes.`"
   ]
  },
  {
   "cell_type": "code",
   "execution_count": 24,
   "metadata": {},
   "outputs": [
    {
     "name": "stdout",
     "output_type": "stream",
     "text": [
      "[1]\n",
      "[1, 2]\n",
      "[1, 2, 3]\n"
     ]
    }
   ],
   "source": [
    "def test(x, List=[]): \n",
    "    List.append(x)\n",
    "    return List\n",
    "\n",
    "print(test(1))\n",
    "print(test(2))\n",
    "print(test(3))"
   ]
  },
  {
   "cell_type": "markdown",
   "metadata": {},
   "source": [
    "###  Q1 : Why?  \n",
    "###  Q2 : 若將上述例子，修改為下列程式片段，其輸出結果又為何不同？"
   ]
  },
  {
   "cell_type": "code",
   "execution_count": 25,
   "metadata": {},
   "outputs": [
    {
     "name": "stdout",
     "output_type": "stream",
     "text": [
      "[1]\n",
      "[2]\n",
      "[3]\n"
     ]
    }
   ],
   "source": [
    "def test2(x, List=None): \n",
    "    if List is None:\n",
    "        List = []\n",
    "    List.append(x)\n",
    "    return List\n",
    "\n",
    "print(test2(1))\n",
    "print(test2(2))\n",
    "print(test2(3))"
   ]
  },
  {
   "cell_type": "markdown",
   "metadata": {},
   "source": [
    "### 關鍵字引數 (Keyword Arguments)\n",
    "- Functions can also be called using keyword arguments of the form kwarg=value."
   ]
  },
  {
   "cell_type": "code",
   "execution_count": 26,
   "metadata": {},
   "outputs": [],
   "source": [
    "def parrot(voltage, state='a stiff', action='voom', type='Norwegian Blue'): \n",
    "    print(\"-- This parrot wouldn't\", action, end=' ')\n",
    "    print(\"if you put\", voltage, \"volts through it.\")\n",
    "    print(\"-- Lovely plumage, the\", type)\n",
    "    print(\"-- It's\", state, \"!\")\n",
    "    \n",
    "##  This function can be called in following ways:\n",
    "##  parrot(1000)                               # 1 positional argument\n",
    "##  parrot(voltage=1000)                       # 1 keyword argument\n",
    "##  parrot(voltage=1000000, action='VOOOOOM')  # 2 keyword argument\n",
    "##  parrot(action='VOOOOOM', voltage=1000000)\n",
    "##  parrot('a million', 'bereft of life', 'jump')\n",
    "##  parrot('a thousand', state='pushing up the daisies') \n",
    "##\n",
    "##  but all the following calls would be invalid:\n",
    "##  parrot() # required argument missing\n",
    "##  parrot(voltage=5.0, 'dead') \n",
    "##  parrot(110, voltage=220) \n",
    "##  parrot(actor='John Cleese') # unknown keyword argument"
   ]
  },
  {
   "cell_type": "markdown",
   "metadata": {},
   "source": [
    "### 任意引數列表 (Arbitrary Argument Lists)\n",
    "- Normally, the variable number of arguments will be last in the list of formal parameters, because they scoop up all remaining input arguments that are passed to the function.\n",
    "- Any formal parameters which occur after the `*args` parameter are ‘keyword-only’ arguments, meaning that they can only be used as keywords rather than positional arguments."
   ]
  },
  {
   "cell_type": "code",
   "execution_count": 27,
   "metadata": {},
   "outputs": [
    {
     "data": {
      "text/plain": [
       "'earth/mars/venus'"
      ]
     },
     "execution_count": 27,
     "metadata": {},
     "output_type": "execute_result"
    }
   ],
   "source": [
    "def concat(*args, sep=\"/\"): \n",
    "    return sep.join(args)\n",
    "\n",
    "concat(\"earth\", \"mars\", \"venus\")"
   ]
  },
  {
   "cell_type": "code",
   "execution_count": 28,
   "metadata": {},
   "outputs": [
    {
     "data": {
      "text/plain": [
       "'earth.mars.venus'"
      ]
     },
     "execution_count": 28,
     "metadata": {},
     "output_type": "execute_result"
    }
   ],
   "source": [
    "concat(\"earth\", \"mars\", \"venus\", sep=\".\")"
   ]
  },
  {
   "cell_type": "markdown",
   "metadata": {},
   "source": [
    "### 展開引數列表 (Unpacking Argument Lists)\n",
    "- The built-in `range()` function expects separate start and stop arguments. If they are not available separately, write the function call with the `*-operator` to unpack the arguments out of a list or tuple."
   ]
  },
  {
   "cell_type": "code",
   "execution_count": 29,
   "metadata": {},
   "outputs": [
    {
     "data": {
      "text/plain": [
       "[3, 4, 5]"
      ]
     },
     "execution_count": 29,
     "metadata": {},
     "output_type": "execute_result"
    }
   ],
   "source": [
    "list(range(3, 6)) # normal call with separate arguments"
   ]
  },
  {
   "cell_type": "code",
   "execution_count": 30,
   "metadata": {},
   "outputs": [
    {
     "data": {
      "text/plain": [
       "[3, 4, 5]"
      ]
     },
     "execution_count": 30,
     "metadata": {},
     "output_type": "execute_result"
    }
   ],
   "source": [
    "args = [3, 6]\n",
    "list(range(*args)) # call with arguments unpacked from a list"
   ]
  },
  {
   "cell_type": "markdown",
   "metadata": {},
   "source": [
    "- In the same fashion, dictionaries can deliver keyword arguments with the `**-operator`."
   ]
  },
  {
   "cell_type": "code",
   "execution_count": 31,
   "metadata": {},
   "outputs": [],
   "source": [
    "def parrot(voltage, state='a stiff', action='voom'):\n",
    "    print(\"-- This parrot wouldn't\", action, end=' ') \n",
    "    print(\"if you put\", voltage, \"volts through it.\", end=' ') \n",
    "    print(\"E's\", state, \"!\")"
   ]
  },
  {
   "cell_type": "code",
   "execution_count": 32,
   "metadata": {},
   "outputs": [
    {
     "name": "stdout",
     "output_type": "stream",
     "text": [
      "-- This parrot wouldn't VOOM if you put four million volts through it. E's bleedin' demised !\n"
     ]
    }
   ],
   "source": [
    "d = {\"voltage\": \"four million\", \n",
    "     \"state\": \"bleedin' demised\", \n",
    "     \"action\": \"VOOM\"}\n",
    "parrot(**d)"
   ]
  },
  {
   "cell_type": "markdown",
   "metadata": {},
   "source": [
    "### Lambda 運算式\n",
    "- Small anonymous functions can be created with the `lambda` keyword. \n",
    "- Lambda functions can be used wherever function objects are required. \n",
    "- They are syntactically restricted to a single expression."
   ]
  },
  {
   "cell_type": "code",
   "execution_count": 33,
   "metadata": {},
   "outputs": [],
   "source": [
    "def revenue(capital, interest_rate): \n",
    "    return lambda year: capital*(1.0 + interest_rate)**year"
   ]
  },
  {
   "cell_type": "code",
   "execution_count": 34,
   "metadata": {},
   "outputs": [
    {
     "data": {
      "text/plain": [
       "<function __main__.revenue.<locals>.<lambda>>"
      ]
     },
     "execution_count": 34,
     "metadata": {},
     "output_type": "execute_result"
    }
   ],
   "source": [
    "rev = revenue(1000000, 0.06)\n",
    "rev"
   ]
  },
  {
   "cell_type": "code",
   "execution_count": 35,
   "metadata": {},
   "outputs": [
    {
     "name": "stdout",
     "output_type": "stream",
     "text": [
      "Year\t  Revenue\n",
      "1 \t  1060000.0\n",
      "3 \t  1191016.0\n",
      "5 \t  1338225.6\n",
      "10 \t  1790847.7\n",
      "20 \t  3207135.5\n",
      "32 \t  6453386.7\n"
     ]
    }
   ],
   "source": [
    "print('Year\\t  Revenue')\n",
    "for i in [1, 3, 5, 10, 20, 32]:\n",
    "    print( i, '\\t ', round(rev(i), 1))"
   ]
  },
  {
   "cell_type": "markdown",
   "metadata": {},
   "source": [
    "- The above example uses a `lambda` expression to return a function. \n",
    "- Another use is to pass a small function as an argument:"
   ]
  },
  {
   "cell_type": "code",
   "execution_count": 36,
   "metadata": {},
   "outputs": [
    {
     "data": {
      "text/plain": [
       "[(4, 'four'), (1, 'one'), (3, 'three'), (2, 'two')]"
      ]
     },
     "execution_count": 36,
     "metadata": {},
     "output_type": "execute_result"
    }
   ],
   "source": [
    "pairs = [(1, 'one'), (2, 'two'), (3, 'three'), (4, 'four')] \n",
    "pairs.sort(key=lambda pair: pair[1])\n",
    "pairs"
   ]
  },
  {
   "cell_type": "markdown",
   "metadata": {},
   "source": [
    "<a id='模組 (Modules)'></a>\n",
    "## 4.2 模組 (Modules)"
   ]
  },
  {
   "cell_type": "code",
   "execution_count": 37,
   "metadata": {},
   "outputs": [],
   "source": [
    "#---------------------------------------\n",
    "# [File]: gcd.py\n",
    "#---------------------------------------\n",
    "#\n",
    "# def g(a, b): # Calculating GCD...\n",
    "#    \"\"\"Print GCD from 2 numbers.\"\"\"\n",
    "#    while b != 0:\n",
    "#        print(' a = ', a, '\\t b = ', b, end='\\n')\n",
    "#        a, b = b, a%b\n",
    "#    print(' *** GCD =', a)"
   ]
  },
  {
   "cell_type": "code",
   "execution_count": 38,
   "metadata": {},
   "outputs": [],
   "source": [
    "import gcd"
   ]
  },
  {
   "cell_type": "code",
   "execution_count": 39,
   "metadata": {},
   "outputs": [
    {
     "data": {
      "text/plain": [
       "<module 'gcd' from '/Users/macmini1/Documents/Alex/UCOM-Python&ML-20180505/gcd.py'>"
      ]
     },
     "execution_count": 39,
     "metadata": {},
     "output_type": "execute_result"
    }
   ],
   "source": [
    "gcd"
   ]
  },
  {
   "cell_type": "code",
   "execution_count": 40,
   "metadata": {},
   "outputs": [
    {
     "data": {
      "text/plain": [
       "['__builtins__',\n",
       " '__cached__',\n",
       " '__doc__',\n",
       " '__file__',\n",
       " '__loader__',\n",
       " '__name__',\n",
       " '__package__',\n",
       " '__spec__']"
      ]
     },
     "execution_count": 40,
     "metadata": {},
     "output_type": "execute_result"
    }
   ],
   "source": [
    "#  The built-in function dir() is used \n",
    "#  to find out which names a module defines. \n",
    "#  It returns a sorted list of strings\n",
    "dir(gcd)  "
   ]
  },
  {
   "cell_type": "code",
   "execution_count": 41,
   "metadata": {},
   "outputs": [
    {
     "data": {
      "text/plain": [
       "3"
      ]
     },
     "execution_count": 41,
     "metadata": {},
     "output_type": "execute_result"
    }
   ],
   "source": [
    "g(255, 99)    ##  gcd.g(255, 99) =>  What happened?"
   ]
  },
  {
   "cell_type": "code",
   "execution_count": 42,
   "metadata": {},
   "outputs": [],
   "source": [
    "from gcd import *"
   ]
  },
  {
   "cell_type": "code",
   "execution_count": 43,
   "metadata": {},
   "outputs": [
    {
     "data": {
      "text/plain": [
       "3"
      ]
     },
     "execution_count": 43,
     "metadata": {},
     "output_type": "execute_result"
    }
   ],
   "source": [
    "g(99, 255)"
   ]
  },
  {
   "cell_type": "code",
   "execution_count": null,
   "metadata": {},
   "outputs": [],
   "source": []
  }
 ],
 "metadata": {
  "kernelspec": {
   "display_name": "Python 3",
   "language": "python",
   "name": "python3"
  },
  "language_info": {
   "codemirror_mode": {
    "name": "ipython",
    "version": 3
   },
   "file_extension": ".py",
   "mimetype": "text/x-python",
   "name": "python",
   "nbconvert_exporter": "python",
   "pygments_lexer": "ipython3",
   "version": "3.6.4"
  }
 },
 "nbformat": 4,
 "nbformat_minor": 2
}
