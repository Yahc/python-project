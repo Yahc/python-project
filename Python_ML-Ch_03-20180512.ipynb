{
 "cells": [
  {
   "cell_type": "markdown",
   "metadata": {},
   "source": [
    "# PART I   < Python程式設計 >\n",
    "# 3. 流程控制與資料結構\n",
    "- [3.1 流程控制](#流程控制)\n",
    "- [3.2 資料結構](#資料結構)"
   ]
  },
  {
   "cell_type": "markdown",
   "metadata": {},
   "source": [
    "<a id='流程控制'></a>\n",
    "## 3.1  流程控制\n",
    "- [if, if...else..., elif 敘述](#if, if...else..., elif 敘述)\n",
    "- [while 敘述](#while 敘述)\n",
    "- [for 敘述](#for 敘述)\n",
    "- [for ... else ... with break / continue](#for ... else ...)"
   ]
  },
  {
   "cell_type": "markdown",
   "metadata": {},
   "source": [
    "<a id='if,if...else...,elif敘述'></a>\n",
    "### if, if...else..., elif 敘述"
   ]
  },
  {
   "cell_type": "code",
   "execution_count": 17,
   "metadata": {},
   "outputs": [
    {
     "name": "stdout",
     "output_type": "stream",
     "text": [
      "Please enter a number: 0.5\n"
     ]
    }
   ],
   "source": [
    "x = float(input(\"Please enter a number: \"))"
   ]
  },
  {
   "cell_type": "code",
   "execution_count": 18,
   "metadata": {},
   "outputs": [
    {
     "data": {
      "text/plain": [
       "0.5"
      ]
     },
     "execution_count": 18,
     "metadata": {},
     "output_type": "execute_result"
    }
   ],
   "source": [
    "x"
   ]
  },
  {
   "cell_type": "code",
   "execution_count": 19,
   "metadata": {},
   "outputs": [
    {
     "name": "stdout",
     "output_type": "stream",
     "text": [
      "0.5  > 0\n"
     ]
    }
   ],
   "source": [
    "if x < 0:\n",
    "    print(x,'is less than zero !')\n",
    "elif x == 0:\n",
    "    print('0')\n",
    "elif x == 1:\n",
    "    print('1')\n",
    "else:\n",
    "    print(x,' > 0')"
   ]
  },
  {
   "cell_type": "markdown",
   "metadata": {},
   "source": [
    "- 關鍵字 elif 是 else if 縮寫，同時可以避免過多的縮排 (indentation)。\n",
    "- if ... elif ... elif ... 用法取代了了其他程式語言中的 switch 和 case 敘述語法。"
   ]
  },
  {
   "cell_type": "markdown",
   "metadata": {},
   "source": [
    "<a id='while 敘述'></a>\n",
    "### while 敘述"
   ]
  },
  {
   "cell_type": "markdown",
   "metadata": {},
   "source": [
    "#### [Example 3.1.1] 執行下列程式，計算 最大公因數(GCD) 和 費氏數列(Fibonacci numbers)："
   ]
  },
  {
   "cell_type": "code",
   "execution_count": 27,
   "metadata": {},
   "outputs": [
    {
     "name": "stdout",
     "output_type": "stream",
     "text": [
      " a =\t 21 \t b =\t 144\n",
      " GCD =  21\n",
      " a =\t 18 \t b =\t 21\n",
      " GCD =  18\n",
      " a =\t 3 \t b =\t 18\n",
      " GCD =  3\n",
      "\n",
      "Fibonacci numbers =  1 1 2 3 5 8 13 21 34 "
     ]
    }
   ],
   "source": [
    "# GCD: greatest common divisor\n",
    "a, b = 21, 144\n",
    "while a != 0:\n",
    "    print(' a =\\t', a,'\\t b =\\t',b)\n",
    "    a, b = b % a, a\n",
    "    print(\" GCD = \", b, end='\\n')\n",
    "\n",
    "# Fibonacci series: F(i) = F(i-1) + F(i+1)\n",
    "a, b = 0, 1\n",
    "print('\\nFibonacci numbers = ', end=' ')\n",
    "while b < 50:\n",
    "    print(b, end=' ')\n",
    "    a, b = b, a+b"
   ]
  },
  {
   "cell_type": "markdown",
   "metadata": {},
   "source": [
    "####  < EXERCISE > :\n",
    "#### 請修改上列程式，使其可以任意輸入 a 和 b 二數值，計算 GCD 和 費氏數列。"
   ]
  },
  {
   "cell_type": "code",
   "execution_count": 30,
   "metadata": {},
   "outputs": [
    {
     "name": "stdout",
     "output_type": "stream",
     "text": [
      "Please enter a number, a: 21\n",
      "Please enter a number, b: 144\n",
      " a =\t 21 \t b =\t 144\n",
      " GCD =  21\n",
      " a =\t 18 \t b =\t 21\n",
      " GCD =  18\n",
      " a =\t 3 \t b =\t 18\n",
      " GCD =  3\n",
      "Please enter a number, a: 21\n",
      "Please enter a number, b: 144\n",
      "Please enter a number, limit: 100000\n",
      "\n",
      "Fibonacci numbers =  144 165 309 474 783 1257 2040 3297 5337 8634 13971 22605 36576 59181 95757 "
     ]
    }
   ],
   "source": [
    "# GCD: greatest common divisor\n",
    "# a, b = 21, 144\n",
    "a = int(input(\"Please enter a number, a: \"))\n",
    "b = int(input(\"Please enter a number, b: \"))\n",
    "\n",
    "while a != 0:\n",
    "    print(' a =\\t', a,'\\t b =\\t',b)\n",
    "    a, b = b % a, a\n",
    "    print(\" GCD = \", b, end='\\n')\n",
    "\n",
    "# Fibonacci series: F(i) = F(i-1) + F(i+1)\n",
    "# a, b = 0, 1\n",
    "a = int(input(\"Please enter a number, a: \"))\n",
    "b = int(input(\"Please enter a number, b: \"))\n",
    "limit = int(input(\"Please enter a number, limit: \"))\n",
    "\n",
    "print('\\nFibonacci numbers = ', end=' ')\n",
    "while b < limit:\n",
    "    print(b, end=' ')\n",
    "    a, b = b, a+b"
   ]
  },
  {
   "cell_type": "markdown",
   "metadata": {},
   "source": [
    "<a id='for 敘述'></a>\n",
    "### for 敘述"
   ]
  },
  {
   "cell_type": "markdown",
   "metadata": {},
   "source": [
    "#### [ Example 3.1.2] 執行下列程式，分別輸出 (1)字串中的字母, (2)陣列中的元素, (3)計算字串長度."
   ]
  },
  {
   "cell_type": "code",
   "execution_count": 31,
   "metadata": {},
   "outputs": [
    {
     "name": "stdout",
     "output_type": "stream",
     "text": [
      "\n",
      ">> Print letters out of a string : 'Python 2.6.3'\n",
      " 第  1  個字母 : P\n",
      " 第  2  個字母 : y\n",
      " 第  3  個字母 : t\n",
      " 第  4  個字母 : h\n",
      " 第  5  個字母 : o\n",
      " 第  6  個字母 : n\n",
      " 第  7  個字母 :  \n",
      " 第  8  個字母 : 2\n",
      " 第  9  個字母 : .\n",
      " 第  10  個字母 : 6\n",
      " 第  11  個字母 : .\n",
      " 第  12  個字母 : 3\n",
      "\n",
      ">> Print the elements from an array...\n",
      " Language Version : R 3.4.1\n",
      " Language Version : Python 2.6.3\n",
      " Language Version : Scala 2.12.2\n",
      "\n",
      ">> Print a string length...\n",
      "R 3.4.1 \t length = 7\n",
      "Python 2.6.3 \t length = 12\n",
      "Scala 2.12.2 \t length = 12\n"
     ]
    }
   ],
   "source": [
    "## (1) Using the for-loop to print letters out of a string...\n",
    "print(\"\\n>> Print letters out of a string : 'Python 2.6.3'\") \n",
    "i=0\n",
    "for alpha in 'Python 2.6.3':\n",
    "    i=i+1\n",
    "    print(' 第 ', i, ' 個字母 :', alpha)\n",
    "\n",
    "    \n",
    "## (2) Using the for-loop to print the elements from an array...\n",
    "print(\"\\n>> Print the elements from an array...\")\n",
    "languages = ['R 3.4.1', 'Python 2.6.3', 'Scala 2.12.2']\n",
    "for language in languages:\n",
    "   print (' Language Version :', language)\n",
    "\n",
    "\n",
    "## (3) Measuring a string length...\n",
    "print(\"\\n>> Print a string length...\")\n",
    "for count in languages:\n",
    "    print(count, '\\t length =', len(count))"
   ]
  },
  {
   "cell_type": "markdown",
   "metadata": {},
   "source": [
    "####  < EXERCISE > :\n",
    "請修改上列程式，使其可以分別輸出:\n",
    "- (1) 中文字串中的文字 (例如:'第 10 個字母 : 6' ),\n",
    "- (2) 陣列:['齊天大聖', '孫悟空', '花果山水簾洞'] 中的元素, \n",
    "- (3) 計算上述陣列中，各字串元素的長度。"
   ]
  },
  {
   "cell_type": "code",
   "execution_count": 32,
   "metadata": {},
   "outputs": [
    {
     "name": "stdout",
     "output_type": "stream",
     "text": [
      "\n",
      ">> Print letters out of a string : '第 10 個字母 : 6'\n",
      " 第  1  個字母 : 第\n",
      " 第  2  個字母 :  \n",
      " 第  3  個字母 : 1\n",
      " 第  4  個字母 : 0\n",
      " 第  5  個字母 :  \n",
      " 第  6  個字母 : 個\n",
      " 第  7  個字母 : 字\n",
      " 第  8  個字母 : 母\n",
      " 第  9  個字母 :  \n",
      " 第  10  個字母 : :\n",
      " 第  11  個字母 :  \n",
      " 第  12  個字母 : 6\n",
      "\n",
      ">> Print the elements from an array...\n",
      " Language Version : 齊天大聖\n",
      " Language Version : 孫悟空\n",
      " Language Version : 花果山水簾洞\n",
      "\n",
      ">> Print a string length...\n",
      "齊天大聖 \t length = 4\n",
      "孫悟空 \t length = 3\n",
      "花果山水簾洞 \t length = 6\n"
     ]
    }
   ],
   "source": [
    "## (1) Using the for-loop to print letters out of a string...\n",
    "print(\"\\n>> Print letters out of a string : '第 10 個字母 : 6'\") \n",
    "i=0\n",
    "for alpha in '第 10 個字母 : 6':\n",
    "    i=i+1\n",
    "    print(' 第 ', i, ' 個字母 :', alpha)\n",
    "\n",
    "    \n",
    "## (2) Using the for-loop to print the elements from an array...\n",
    "print(\"\\n>> Print the elements from an array...\")\n",
    "languages = ['齊天大聖', '孫悟空', '花果山水簾洞'] \n",
    "for language in languages:\n",
    "   print (' Language Version :', language)\n",
    "\n",
    "\n",
    "## (3) Measuring a string length...\n",
    "print(\"\\n>> Print a string length...\")\n",
    "for count in languages:\n",
    "    print(count, '\\t length =', len(count))"
   ]
  },
  {
   "cell_type": "markdown",
   "metadata": {},
   "source": [
    "#### [ Example 3.1.3]  執行下列程式,複製陣列中某些字串元素,並插入至所有元素之前"
   ]
  },
  {
   "cell_type": "code",
   "execution_count": 40,
   "metadata": {},
   "outputs": [
    {
     "name": "stdout",
     "output_type": "stream",
     "text": [
      "\n",
      " fruits (before) = ['apple', 'mango', 'watermelon', 'banana', 'pineapple']\n",
      "\n",
      " f = pineapple\n",
      "\n",
      " fruits (after) = ['banana', 'mango', 'apple', 'apple', 'mango', 'watermelon', 'banana', 'pineapple']\n"
     ]
    }
   ],
   "source": [
    "## Duplicating & Inserting elements in an array...\n",
    "fruits = ['apple', 'mango', 'watermelon', 'banana', 'pineapple']\n",
    "print('\\n fruits (before) =', fruits)\n",
    "\n",
    "for f in fruits[:]:  # Loop over a slice copy of the entire list.\n",
    "    ##   if (len(f) <= 8) & (len(f) >= 5): # 與下一行敘述相同，差異在括號\n",
    "    if len(f) <= 8 and len(f) >= 5:\n",
    "            fruits.insert(0, f)\n",
    "print('\\n f =', f)\n",
    "print('\\n fruits (after) =', fruits)"
   ]
  },
  {
   "cell_type": "markdown",
   "metadata": {},
   "source": [
    "####  < EXERCISE >  請修改 [ Example 3.1.3] 程式，使其可以分別依照下列方式輸出:\n",
    "- (1) 插入至原來陣列元素 banana 和 pineapple 之間, \n",
    "- (2) 設定欲複製的字串元素長度為 len(f) <= 6 或 > 9。\n",
    "\n",
    "[ 提示 ] : (2) 可以用運算元 or 或 |"
   ]
  },
  {
   "cell_type": "markdown",
   "metadata": {},
   "source": [
    "### `range()` 函數 "
   ]
  },
  {
   "cell_type": "code",
   "execution_count": 7,
   "metadata": {},
   "outputs": [
    {
     "name": "stdout",
     "output_type": "stream",
     "text": [
      "2 3 4 5 6 7 8 9 "
     ]
    }
   ],
   "source": [
    "for i in range(2, 10):     # same as range(2, 10, 1)\n",
    "    print(i, end=' ')      # => 2 3 4 5 6 7 8 9"
   ]
  },
  {
   "cell_type": "code",
   "execution_count": 8,
   "metadata": {},
   "outputs": [
    {
     "name": "stdout",
     "output_type": "stream",
     "text": [
      "range(0, 5)\n"
     ]
    }
   ],
   "source": [
    "print(range(5))      # Only show =>  range(0, 5)"
   ]
  },
  {
   "cell_type": "code",
   "execution_count": 9,
   "metadata": {},
   "outputs": [
    {
     "data": {
      "text/plain": [
       "[0, 1, 2, 3, 4]"
      ]
     },
     "execution_count": 9,
     "metadata": {},
     "output_type": "execute_result"
    }
   ],
   "source": [
    "list(range(5))   # OUTPUT => [0, 1, 2, 3, 4]"
   ]
  },
  {
   "cell_type": "markdown",
   "metadata": {},
   "source": [
    "#### Q : `range(-15, 25, 3)` 和 `range(-15, -25, -3)` 的範圍分別為何?"
   ]
  },
  {
   "cell_type": "code",
   "execution_count": 42,
   "metadata": {},
   "outputs": [
    {
     "data": {
      "text/plain": [
       "[-15, -18, -21, -24]"
      ]
     },
     "execution_count": 42,
     "metadata": {},
     "output_type": "execute_result"
    }
   ],
   "source": [
    "list(range(-15, -25, -3))"
   ]
  },
  {
   "cell_type": "markdown",
   "metadata": {},
   "source": [
    "#### [ Example 3.1.4 ] : range() 函數 與 for loop"
   ]
  },
  {
   "cell_type": "code",
   "execution_count": 10,
   "metadata": {},
   "outputs": [
    {
     "name": "stdout",
     "output_type": "stream",
     "text": [
      "0 + 1 + 2 + 3 + 4 =  10\n",
      " sum(range(5)) =  10\n",
      "\n",
      "notes[ 0 ] :  ti\n",
      "notes[ 1 ] :  do\n",
      "notes[ 2 ] :  re\n",
      "notes[ 3 ] :  mi\n",
      "notes[ 4 ] :  fa\n",
      "notes[ 5 ] :  sol\n",
      "notes[ 6 ] :  la\n"
     ]
    }
   ],
   "source": [
    "## Calculating0+1+2+3+4= 10 # Example Code - 1\n",
    "s=0\n",
    "n=5\n",
    "for i in range(n): \n",
    "    s=s+i\n",
    "    print(i, end='')\n",
    "    if i < (n-1): print(end=' + ')\n",
    "print(' = ', s)\n",
    "\n",
    "# Example Code - 2\n",
    "print(' sum(range(5)) = ', sum(range(5)), end='\\n\\n')\n",
    "\n",
    "##  Using len() function\n",
    "notes = ['ti', 'do', 're', 'mi', 'fa', 'sol', 'la']\n",
    "for i in range(len(notes)):\n",
    "        print('notes[', i, '] : ', notes[i])"
   ]
  },
  {
   "cell_type": "markdown",
   "metadata": {},
   "source": [
    "<a id='for ... else ...'></a>\n",
    "### for ... else ... with break / continue 敘述"
   ]
  },
  {
   "cell_type": "markdown",
   "metadata": {},
   "source": [
    "#### [ Example 3.1.5 ] : 執⾏下列程式 - 搜尋質數 (prime number)"
   ]
  },
  {
   "cell_type": "code",
   "execution_count": 11,
   "metadata": {},
   "outputs": [
    {
     "name": "stdout",
     "output_type": "stream",
     "text": [
      "2 is a prime number !\n",
      "3 is a prime number !\n",
      "4 equals 2 * 2  >>  4 is not a prime number.\n",
      "5 is a prime number !\n",
      "6 equals 2 * 3  >>  6 is not a prime number.\n",
      "7 is a prime number !\n",
      "8 equals 2 * 4  >>  8 is not a prime number.\n",
      "9 equals 3 * 3  >>  9 is not a prime number.\n",
      "10 equals 2 * 5  >>  10 is not a prime number.\n",
      "11 is a prime number !\n",
      "12 equals 2 * 6  >>  12 is not a prime number.\n",
      "13 is a prime number !\n",
      "14 equals 2 * 7  >>  14 is not a prime number.\n",
      "15 equals 3 * 5  >>  15 is not a prime number.\n",
      "16 equals 2 * 8  >>  16 is not a prime number.\n",
      "17 is a prime number !\n",
      "18 equals 2 * 9  >>  18 is not a prime number.\n",
      "19 is a prime number !\n"
     ]
    }
   ],
   "source": [
    "##  Finding the prime numbers less than 20...\n",
    "for n in range(2, 20):\n",
    "    for x in range(2, n):\n",
    "        if n % x == 0:\n",
    "            print(n, 'equals', x, '*', n//x, end=' ') \n",
    "            break\n",
    "    else:\n",
    "        # loop fell through without finding a factor \n",
    "        print(n, 'is a prime number !')\n",
    "        continue\n",
    "    print(' >> ', n, 'is not a prime number.')"
   ]
  },
  {
   "cell_type": "markdown",
   "metadata": {},
   "source": [
    "<a id='資料結構'></a>\n",
    "## 3.2  資料結構\n",
    "- [Lists (列表)](#Lists (列表)\n",
    "- [List Comprehension (列表精簡)](#List Comprehension (列表精簡)\n",
    "- [Basic Sequence Types — list, tuple, range](#Basic Sequence Types — list, tuple, range)\n",
    "- [Tuples (元組)](#Tuples (元組))\n",
    "- [Text Sequence Type (⽂字序列資料型別) — str](#Text Sequence Type (⽂字序列資料型別)\n",
    "- [Sets (集合)](#Sets (集合)\n",
    "- [Dictionaries (字典)](#Dictionaries (字典)\n",
    "\n",
    "### Ref :  C. Alex Hu, \"Data Structures with Python\", 2018/2/22."
   ]
  },
  {
   "cell_type": "code",
   "execution_count": 1,
   "metadata": {},
   "outputs": [
    {
     "name": "stdout",
     "output_type": "stream",
     "text": [
      " squareRoot( 1000000000 ) =  31622.7766\n",
      " squareRoot( 0.0001 ) =  0.01\n",
      " squareRoot( 81 ) =  9.0\n",
      " ****  a =  -9  :  < or = 0: ERROR !! \n",
      " ****  a =  0  :  < or = 0: ERROR !! \n",
      "\n",
      " nthRoot( 1000000000 ) =  1.23027  , where n =  100\n",
      " >>>   Decimal(10**(upper)) =  1.2302720667604620796709014030057005584239959716796875\n",
      "\n",
      " nthRoot( 0.001 ) =  0.1  , where n =  3\n",
      " >>>   Decimal(10**(upper)) =  0.1000008783703635606432413851507590152323246002197265625\n",
      "\n",
      " nthRoot( 81 ) =  9.00002  , where n =  2\n",
      " >>>   Decimal(10**(upper)) =  9.00001905455012973789052921347320079803466796875\n",
      "\n",
      " nthRoot( 27 ) =  9.00001  , where n =  1.5\n",
      " >>>   Decimal(10**(upper)) =  9.0000149732485699161088632536120712757110595703125\n",
      "\n",
      " **** nthRoot2( 27 ,  -1.5 ) : a / n < or = 0: ERROR !! \n",
      "\n",
      " **** nthRoot2( 27 ,  0 ) : a / n < or = 0: ERROR !! \n",
      "\n",
      " **** nthRoot2( -9 ,  2 ) : a / n < or = 0: ERROR !! \n",
      "\n",
      " **** nthRoot2( 0 ,  2.5 ) : a / n < or = 0: ERROR !! \n"
     ]
    },
    {
     "data": {
      "text/plain": [
       "(0, 2.5)"
      ]
     },
     "execution_count": 1,
     "metadata": {},
     "output_type": "execute_result"
    }
   ],
   "source": [
    "def squareRoot(a):\n",
    "    \"\"\"Calculate the square root of a, with Binary Search Algorithm.\"\"\"\n",
    "    if a <= 0:\n",
    "        print(' ****  a = ', a, ' :  < or = 0: ERROR !! ')\n",
    "        return a\n",
    "\n",
    "    lower, upper = 0, a\n",
    "    if a < 1:\n",
    "       lower, upper = a, a+1\n",
    "    while round(upper,5) != round(lower,5):\n",
    "        avg = (upper + lower) / 2.0\n",
    "        if avg**2 >= a:\n",
    "            upper = avg\n",
    "        else:\n",
    "            lower = avg\n",
    "            \n",
    "    sol = round(upper, 5)\n",
    "    print(' squareRoot(', a, ') = ', sol)\n",
    "    return [a, 2, sol]\n",
    "\n",
    "\n",
    "def nthRoot(a, n):\n",
    "    \"\"\"Calculate the nth root of a, with Binary Search Algorithmㄝ\n",
    "       where a > 0 and n > 0.\"\"\"\n",
    "    if a <= 0 or n <= 0:\n",
    "        print('\\n **** nthRoot2(', a,', ', n, ') : a / n < or = 0: ERROR !! ')\n",
    "        return a, n\n",
    "    \n",
    "    lower, upper, log_a = -(10**n), log(a, 10), log(a, 10)\n",
    "    if a < 1:\n",
    "        lower, upper = log_a, log_a + n\n",
    "        \n",
    "    while round(upper,5) != round(lower,5):\n",
    "        avg = (upper + lower) / 2.0\n",
    "        if avg >= log_a/n:\n",
    "            upper = avg\n",
    "        else:\n",
    "            lower = avg\n",
    "            \n",
    "    sol = round(10**(upper), 5)\n",
    "    print('\\n nthRoot(', a, ') = ', sol, ' , where n = ', n)\n",
    "    print(' >>>   Decimal(10**(upper)) = ', Decimal(10**(upper)), end='\\n')\n",
    "    return [a, n, sol]\n",
    "\n",
    "\n",
    "from decimal import *\n",
    "from math import log\n",
    "getcontext().prec = 30\n",
    "\n",
    "squareRoot(1000000000)\n",
    "squareRoot(0.0001)\n",
    "squareRoot(81)\n",
    "squareRoot(-9)\n",
    "squareRoot(0)\n",
    "\n",
    "nthRoot(1000000000, 100)\n",
    "nthRoot(0.001, 3)\n",
    "nthRoot(81, 2)\n",
    "nthRoot(27, 1.5)\n",
    "nthRoot(27, -1.5)\n",
    "nthRoot(27, 0)\n",
    "nthRoot(-9, 2)\n",
    "nthRoot(0, 2.5)"
   ]
  },
  {
   "cell_type": "code",
   "execution_count": 2,
   "metadata": {},
   "outputs": [],
   "source": [
    "## 先產⽣生下列列三筆資料：\n",
    "listNumbers = [ 1, 2, 3, 4, 5, 6, 7, 8, 9, 0]\n",
    "listLetters = ['A', 'b', 'C', 'd', 'E']\n",
    "listConstants = [ 1.41421, 3.14159, 2.71828]\n"
   ]
  },
  {
   "cell_type": "code",
   "execution_count": 3,
   "metadata": {},
   "outputs": [
    {
     "data": {
      "text/plain": [
       "[1, 2, 3, 4, 5, 6, 7, 8, 9, 0]"
      ]
     },
     "execution_count": 3,
     "metadata": {},
     "output_type": "execute_result"
    }
   ],
   "source": [
    "list0 = listNumbers\n",
    "list0 # [1, 2, 3, 4, 5, 6, 7, 8, 9, 0]"
   ]
  },
  {
   "cell_type": "code",
   "execution_count": 4,
   "metadata": {},
   "outputs": [
    {
     "data": {
      "text/plain": [
       "[1, 2, 3, 4, 5, 6, 7, 8, 9, 0, 'a']"
      ]
     },
     "execution_count": 4,
     "metadata": {},
     "output_type": "execute_result"
    }
   ],
   "source": [
    "list0.append('a')\n",
    "list0"
   ]
  },
  {
   "cell_type": "code",
   "execution_count": 5,
   "metadata": {},
   "outputs": [],
   "source": [
    "list1 = None\n",
    "list1"
   ]
  },
  {
   "cell_type": "code",
   "execution_count": 6,
   "metadata": {},
   "outputs": [
    {
     "ename": "AttributeError",
     "evalue": "'NoneType' object has no attribute 'append'",
     "output_type": "error",
     "traceback": [
      "\u001b[1;31m---------------------------------------------------------------------------\u001b[0m",
      "\u001b[1;31mAttributeError\u001b[0m                            Traceback (most recent call last)",
      "\u001b[1;32m<ipython-input-6-f34b00cfb031>\u001b[0m in \u001b[0;36m<module>\u001b[1;34m()\u001b[0m\n\u001b[1;32m----> 1\u001b[1;33m \u001b[0mlist1\u001b[0m\u001b[1;33m.\u001b[0m\u001b[0mappend\u001b[0m\u001b[1;33m(\u001b[0m\u001b[0mlist0\u001b[0m\u001b[1;33m)\u001b[0m\u001b[1;33m\u001b[0m\u001b[0m\n\u001b[0m",
      "\u001b[1;31mAttributeError\u001b[0m: 'NoneType' object has no attribute 'append'"
     ]
    }
   ],
   "source": [
    "list1.append(list0)"
   ]
  },
  {
   "cell_type": "code",
   "execution_count": 7,
   "metadata": {},
   "outputs": [
    {
     "data": {
      "text/plain": [
       "[]"
      ]
     },
     "execution_count": 7,
     "metadata": {},
     "output_type": "execute_result"
    }
   ],
   "source": [
    "list1 = []\n",
    "list1"
   ]
  },
  {
   "cell_type": "code",
   "execution_count": 8,
   "metadata": {},
   "outputs": [
    {
     "data": {
      "text/plain": [
       "[1000]"
      ]
     },
     "execution_count": 8,
     "metadata": {},
     "output_type": "execute_result"
    }
   ],
   "source": [
    "list1.append(1000)\n",
    "list1"
   ]
  },
  {
   "cell_type": "code",
   "execution_count": 9,
   "metadata": {},
   "outputs": [
    {
     "data": {
      "text/plain": [
       "[1000, [1, 2, 3, 4, 5, 6, 7, 8, 9, 0, 'a']]"
      ]
     },
     "execution_count": 9,
     "metadata": {},
     "output_type": "execute_result"
    }
   ],
   "source": [
    "list1.append(list0)\n",
    "list1"
   ]
  },
  {
   "cell_type": "code",
   "execution_count": 10,
   "metadata": {},
   "outputs": [
    {
     "data": {
      "text/plain": [
       "[1, 2, 3, 4, 5, 6, 7, 8, 9, 0, 'a']"
      ]
     },
     "execution_count": 10,
     "metadata": {},
     "output_type": "execute_result"
    }
   ],
   "source": [
    "list0"
   ]
  },
  {
   "cell_type": "code",
   "execution_count": 11,
   "metadata": {},
   "outputs": [
    {
     "data": {
      "text/plain": [
       "[1, 2, 3, 4, 5, 6, 7, 8, 9, 0, 'a']"
      ]
     },
     "execution_count": 11,
     "metadata": {},
     "output_type": "execute_result"
    }
   ],
   "source": [
    "listNumbers"
   ]
  },
  {
   "cell_type": "code",
   "execution_count": 12,
   "metadata": {},
   "outputs": [
    {
     "data": {
      "text/plain": [
       "[1, 2, 3, 4, 5, 6, 7, 8, 9, 0, 'a', 'b']"
      ]
     },
     "execution_count": 12,
     "metadata": {},
     "output_type": "execute_result"
    }
   ],
   "source": [
    "list0[len(list0):] = ['b'] # 等同於 list0.append('b')\n",
    "list0"
   ]
  },
  {
   "cell_type": "markdown",
   "metadata": {},
   "source": [
    "### < EXERCISE 1-1 >"
   ]
  },
  {
   "cell_type": "code",
   "execution_count": 64,
   "metadata": {},
   "outputs": [],
   "source": [
    "words = ['Fly', 'robin', 'fly', 'Up', 'up', 'to', 'the', 'sky']\n",
    "w = ['Fly', 'robin', 'fly']"
   ]
  },
  {
   "cell_type": "code",
   "execution_count": 61,
   "metadata": {},
   "outputs": [
    {
     "data": {
      "text/plain": [
       "['fly', 'robin', 'Fly']"
      ]
     },
     "execution_count": 61,
     "metadata": {},
     "output_type": "execute_result"
    }
   ],
   "source": [
    "w.reverse()\n",
    "w"
   ]
  },
  {
   "cell_type": "code",
   "execution_count": 62,
   "metadata": {},
   "outputs": [],
   "source": [
    "for i in range(2): \n",
    "    for x in w:\n",
    "        words.insert(0,x) # Or, words.insert(3,x)"
   ]
  },
  {
   "cell_type": "code",
   "execution_count": 63,
   "metadata": {},
   "outputs": [
    {
     "name": "stdout",
     "output_type": "stream",
     "text": [
      "['Fly', 'robin', 'fly', 'Fly', 'robin', 'fly', 'Fly', 'robin', 'fly', 'Up', 'up', 'to', 'the', 'sky']\n"
     ]
    }
   ],
   "source": [
    "print(words)"
   ]
  },
  {
   "cell_type": "code",
   "execution_count": 65,
   "metadata": {},
   "outputs": [
    {
     "data": {
      "text/plain": [
       "['Fly',\n",
       " 'robin',\n",
       " 'fly',\n",
       " 'Fly',\n",
       " 'robin',\n",
       " 'fly',\n",
       " 'Fly',\n",
       " 'robin',\n",
       " 'fly',\n",
       " 'Up',\n",
       " 'up',\n",
       " 'to',\n",
       " 'the',\n",
       " 'sky']"
      ]
     },
     "execution_count": 65,
     "metadata": {},
     "output_type": "execute_result"
    }
   ],
   "source": [
    "w.extend(w)\n",
    "w.extend(words)\n",
    "print(w)"
   ]
  },
  {
   "cell_type": "code",
   "execution_count": 66,
   "metadata": {},
   "outputs": [
    {
     "name": "stdout",
     "output_type": "stream",
     "text": [
      "['Fly', 'robin', 'fly', 'Fly', 'robin', 'fly', 'Fly', 'robin', 'fly', 'Up', 'up', 'to', 'the', 'sky']\n"
     ]
    }
   ],
   "source": [
    "print(w)"
   ]
  },
  {
   "cell_type": "code",
   "execution_count": 5,
   "metadata": {},
   "outputs": [],
   "source": [
    "def Stack_LIFO(prompt=' Push to Stack (type null if done): '):\n",
    "    stack = []\n",
    "    while True:\n",
    "        top = input(prompt)\n",
    "        if top in ('n', 'nu', 'nul', 'null'):\n",
    "            break\n",
    "        else:\n",
    "            stack.append(top)\n",
    "    print('\\n Within Stack: ', stack, end='\\n\\n')\n",
    "    print(' <<< Pop the Stack --> LIFO : Last-In-First-Out ')\n",
    "    \n",
    "    for top in stack[:]: # Could we use \"for top in stack:\" instead?\n",
    "        print(' pop Stack : ', stack.pop())\n",
    "    print('\\n ******* Stack = ', stack)"
   ]
  },
  {
   "cell_type": "code",
   "execution_count": 6,
   "metadata": {},
   "outputs": [
    {
     "name": "stdout",
     "output_type": "stream",
     "text": [
      " Push to Stack (type null if done): a\n",
      " Push to Stack (type null if done): b\n",
      " Push to Stack (type null if done): c\n",
      " Push to Stack (type null if done): d\n",
      " Push to Stack (type null if done): e\n",
      " Push to Stack (type null if done): f\n",
      " Push to Stack (type null if done): g\n",
      " Push to Stack (type null if done): h\n",
      " Push to Stack (type null if done): i\n",
      " Push to Stack (type null if done): j\n",
      " Push to Stack (type null if done): k\n",
      " Push to Stack (type null if done): l\n",
      " Push to Stack (type null if done): m\n",
      " Push to Stack (type null if done): n\n",
      "\n",
      " Within Stack:  ['a', 'b', 'c', 'd', 'e', 'f', 'g', 'h', 'i', 'j', 'k', 'l', 'm']\n",
      "\n",
      " <<< Pop the Stack --> LIFO : Last-In-First-Out \n",
      " pop Stack :  m\n",
      " pop Stack :  l\n",
      " pop Stack :  k\n",
      " pop Stack :  j\n",
      " pop Stack :  i\n",
      " pop Stack :  h\n",
      " pop Stack :  g\n",
      " pop Stack :  f\n",
      " pop Stack :  e\n",
      " pop Stack :  d\n",
      " pop Stack :  c\n",
      " pop Stack :  b\n",
      " pop Stack :  a\n",
      "\n",
      " ******* Stack =  []\n"
     ]
    }
   ],
   "source": [
    "Stack_LIFO()"
   ]
  },
  {
   "cell_type": "code",
   "execution_count": 8,
   "metadata": {},
   "outputs": [
    {
     "name": "stdout",
     "output_type": "stream",
     "text": [
      "[('Apple', 'Google'), ('Apple', 'Microsoft'), ('Android', 'Google'), ('Android', 'Apple'), ('Android', 'Microsoft'), ('Asus', 'Google'), ('Asus', 'Apple'), ('Asus', 'Microsoft')]\n"
     ]
    }
   ],
   "source": [
    "pairs = [(i,j) for i in ['Apple', 'Android', 'Asus'] for j in ['Google',\n",
    "'Apple', 'Microsoft'] if i != j]\n",
    "print(pairs)"
   ]
  },
  {
   "cell_type": "code",
   "execution_count": 9,
   "metadata": {},
   "outputs": [],
   "source": [
    "pairs = []\n",
    "for i in ['Apple', 'Android', 'Asus']:\n",
    "    for j in ['Google','Apple', 'Microsoft']:\n",
    "        if i != j:\n",
    "            pairs.append((i,j))"
   ]
  },
  {
   "cell_type": "code",
   "execution_count": 10,
   "metadata": {},
   "outputs": [
    {
     "data": {
      "text/plain": [
       "['2.7', '2.72', '2.718', '2.7183', '2.71828']"
      ]
     },
     "execution_count": 10,
     "metadata": {},
     "output_type": "execute_result"
    }
   ],
   "source": [
    "from math import exp\n",
    "[str(round(exp(1), i)) for i in range(1, 6)]"
   ]
  },
  {
   "cell_type": "code",
   "execution_count": 11,
   "metadata": {},
   "outputs": [
    {
     "data": {
      "text/plain": [
       "['2.7', '2.72', '2.718', '2.7183', '2.71828']"
      ]
     },
     "execution_count": 11,
     "metadata": {},
     "output_type": "execute_result"
    }
   ],
   "source": [
    "exp1 = []\n",
    "for i in range(1, 6):\n",
    "    exp1.append(str(round(exp(1), i)))\n",
    "exp1"
   ]
  },
  {
   "cell_type": "markdown",
   "metadata": {},
   "source": [
    "###  < EXERCISE 2-1 >"
   ]
  },
  {
   "cell_type": "code",
   "execution_count": 12,
   "metadata": {},
   "outputs": [
    {
     "data": {
      "text/plain": [
       "[(1, 4, 2.5),\n",
       " (1, 2, 1.5),\n",
       " (3, 4, 3.5),\n",
       " (3, 1, 2.0),\n",
       " (3, 2, 2.5),\n",
       " (5, 4, 4.5),\n",
       " (5, 1, 3.0),\n",
       " (5, 2, 3.5)]"
      ]
     },
     "execution_count": 12,
     "metadata": {},
     "output_type": "execute_result"
    }
   ],
   "source": [
    "pairs = []\n",
    "for i in [1,3,5]:\n",
    "    for j in [4,1,2]:\n",
    "        if i != j:\n",
    "            pairs.append((i, j, (i+j)/2))\n",
    "pairs"
   ]
  },
  {
   "cell_type": "code",
   "execution_count": 14,
   "metadata": {},
   "outputs": [
    {
     "data": {
      "text/plain": [
       "[(1, 4, 2.5),\n",
       " (1, 2, 1.5),\n",
       " (3, 4, 3.5),\n",
       " (3, 1, 2.0),\n",
       " (3, 2, 2.5),\n",
       " (5, 4, 4.5),\n",
       " (5, 1, 3.0),\n",
       " (5, 2, 3.5)]"
      ]
     },
     "execution_count": 14,
     "metadata": {},
     "output_type": "execute_result"
    }
   ],
   "source": [
    "[(i, j, (i+j)/2) for i in [1,3,5] for j in [4,1,2] if i != j]"
   ]
  },
  {
   "cell_type": "markdown",
   "metadata": {},
   "source": [
    "### < EXERCISE 2-2 >"
   ]
  },
  {
   "cell_type": "code",
   "execution_count": 16,
   "metadata": {},
   "outputs": [
    {
     "name": "stdout",
     "output_type": "stream",
     "text": [
      "[2, 3, 5, 7, 11, 13, 17, 19, 23, 29, 31, 37, 41, 43, 47, 53, 59, 61, 67, 71, 73, 79, 83, 89, 97]\n"
     ]
    }
   ],
   "source": [
    "prime = [x for x in range(2, 100) if x not in (j for i in range(2, 11) for j in\n",
    "range(i*2, 100, i))]\n",
    "print(prime)"
   ]
  },
  {
   "cell_type": "code",
   "execution_count": 19,
   "metadata": {},
   "outputs": [
    {
     "name": "stdout",
     "output_type": "stream",
     "text": [
      "[2, 3, 5, 7, 11, 13, 17, 19, 23, 29, 31, 37, 41, 43, 47, 53, 59, 61, 67, 71, 73, 79, 83, 89, 97]\n"
     ]
    }
   ],
   "source": [
    "A = []\n",
    "for i in range(2, 11):\n",
    "    for j in range(i*2, 100, i):\n",
    "        A.append(j)\n",
    "        \n",
    "prime = []\n",
    "for x in range(2, 100):\n",
    "    if x not in A:\n",
    "        prime.append(x)\n",
    "print(prime)"
   ]
  },
  {
   "cell_type": "markdown",
   "metadata": {},
   "source": [
    "## List operation"
   ]
  },
  {
   "cell_type": "code",
   "execution_count": 20,
   "metadata": {},
   "outputs": [],
   "source": [
    "list1 = [[1]]"
   ]
  },
  {
   "cell_type": "code",
   "execution_count": 21,
   "metadata": {},
   "outputs": [],
   "source": [
    "list2 = list1 * 2"
   ]
  },
  {
   "cell_type": "code",
   "execution_count": 22,
   "metadata": {},
   "outputs": [
    {
     "data": {
      "text/plain": [
       "[[1], [1]]"
      ]
     },
     "execution_count": 22,
     "metadata": {},
     "output_type": "execute_result"
    }
   ],
   "source": [
    "list2"
   ]
  },
  {
   "cell_type": "code",
   "execution_count": 23,
   "metadata": {},
   "outputs": [],
   "source": [
    "list2[0].append(2)"
   ]
  },
  {
   "cell_type": "code",
   "execution_count": 24,
   "metadata": {},
   "outputs": [
    {
     "data": {
      "text/plain": [
       "[[1, 2], [1, 2]]"
      ]
     },
     "execution_count": 24,
     "metadata": {},
     "output_type": "execute_result"
    }
   ],
   "source": [
    "list2"
   ]
  },
  {
   "cell_type": "code",
   "execution_count": 25,
   "metadata": {},
   "outputs": [
    {
     "data": {
      "text/plain": [
       "[[1, 2]]"
      ]
     },
     "execution_count": 25,
     "metadata": {},
     "output_type": "execute_result"
    }
   ],
   "source": [
    "list1"
   ]
  },
  {
   "cell_type": "code",
   "execution_count": 26,
   "metadata": {},
   "outputs": [],
   "source": [
    "list2.append(2)"
   ]
  },
  {
   "cell_type": "code",
   "execution_count": 27,
   "metadata": {},
   "outputs": [
    {
     "data": {
      "text/plain": [
       "[[1, 2], [1, 2], 2]"
      ]
     },
     "execution_count": 27,
     "metadata": {},
     "output_type": "execute_result"
    }
   ],
   "source": [
    "list2"
   ]
  },
  {
   "cell_type": "code",
   "execution_count": 30,
   "metadata": {},
   "outputs": [],
   "source": [
    "list1 = list1*(-1)"
   ]
  },
  {
   "cell_type": "code",
   "execution_count": 31,
   "metadata": {},
   "outputs": [
    {
     "data": {
      "text/plain": [
       "[]"
      ]
     },
     "execution_count": 31,
     "metadata": {},
     "output_type": "execute_result"
    }
   ],
   "source": [
    "list1"
   ]
  },
  {
   "cell_type": "code",
   "execution_count": 32,
   "metadata": {},
   "outputs": [
    {
     "data": {
      "text/plain": [
       "[[1, 2], [1, 2], 2]"
      ]
     },
     "execution_count": 32,
     "metadata": {},
     "output_type": "execute_result"
    }
   ],
   "source": [
    "list2"
   ]
  },
  {
   "cell_type": "code",
   "execution_count": 33,
   "metadata": {},
   "outputs": [],
   "source": [
    "list2[0].append(3)"
   ]
  },
  {
   "cell_type": "code",
   "execution_count": 34,
   "metadata": {},
   "outputs": [
    {
     "data": {
      "text/plain": [
       "[[1, 2, 3], [1, 2, 3], 2]"
      ]
     },
     "execution_count": 34,
     "metadata": {},
     "output_type": "execute_result"
    }
   ],
   "source": [
    "list2"
   ]
  },
  {
   "cell_type": "code",
   "execution_count": 35,
   "metadata": {},
   "outputs": [
    {
     "data": {
      "text/plain": [
       "[]"
      ]
     },
     "execution_count": 35,
     "metadata": {},
     "output_type": "execute_result"
    }
   ],
   "source": [
    "list1"
   ]
  },
  {
   "cell_type": "markdown",
   "metadata": {},
   "source": [
    "### < EXERCISE 3-1 > "
   ]
  },
  {
   "cell_type": "code",
   "execution_count": 36,
   "metadata": {},
   "outputs": [],
   "source": [
    "seq1 = [chr(i) for i in range(65,71)]\n",
    "seq2 = [chr(i) for i in range(97,103)]"
   ]
  },
  {
   "cell_type": "code",
   "execution_count": 37,
   "metadata": {},
   "outputs": [
    {
     "data": {
      "text/plain": [
       "[162, 164, 166, 168, 170, 172]"
      ]
     },
     "execution_count": 37,
     "metadata": {},
     "output_type": "execute_result"
    }
   ],
   "source": [
    "[ord(seq1[i]) + ord(seq2[i]) for i in range(6)]"
   ]
  },
  {
   "cell_type": "code",
   "execution_count": 38,
   "metadata": {},
   "outputs": [
    {
     "data": {
      "text/plain": [
       "[[65, 97], [66, 98], [67, 99], [68, 100], [69, 101], [70, 102]]"
      ]
     },
     "execution_count": 38,
     "metadata": {},
     "output_type": "execute_result"
    }
   ],
   "source": [
    "[[ord(seq1[i])] + [ord(seq2[i])] for i in range(6)]"
   ]
  },
  {
   "cell_type": "code",
   "execution_count": 39,
   "metadata": {},
   "outputs": [
    {
     "data": {
      "text/plain": [
       "('a', 'b', 'c')"
      ]
     },
     "execution_count": 39,
     "metadata": {},
     "output_type": "execute_result"
    }
   ],
   "source": [
    "tuple('abc')"
   ]
  },
  {
   "cell_type": "code",
   "execution_count": 40,
   "metadata": {},
   "outputs": [
    {
     "data": {
      "text/plain": [
       "('abc',)"
      ]
     },
     "execution_count": 40,
     "metadata": {},
     "output_type": "execute_result"
    }
   ],
   "source": [
    "tuple(['abc'])"
   ]
  },
  {
   "cell_type": "markdown",
   "metadata": {},
   "source": [
    "### [ Example 3.10 ]"
   ]
  },
  {
   "cell_type": "code",
   "execution_count": 42,
   "metadata": {},
   "outputs": [
    {
     "data": {
      "text/plain": [
       "['Towers of gold are still too little',\n",
       " \"These hands could hold the world but it'll\",\n",
       " 'Never be enough',\n",
       " 'Never be enough',\n",
       " 'For me']"
      ]
     },
     "execution_count": 42,
     "metadata": {},
     "output_type": "execute_result"
    }
   ],
   "source": [
    "string = '''Towers of gold are still too little\n",
    "These hands could hold the world but it'll\n",
    "Never be enough\n",
    "Never be enough\n",
    "For me'''\n",
    "\n",
    "string_list = string.splitlines()\n",
    "string_list"
   ]
  },
  {
   "cell_type": "code",
   "execution_count": 45,
   "metadata": {},
   "outputs": [
    {
     "name": "stdout",
     "output_type": "stream",
     "text": [
      "['Towers', 'of', 'gold', 'are', 'still', 'too', 'little', 'These', 'hands', 'could', 'hold', 'the', 'world', 'but', \"it'll\", 'Never', 'be', 'enough', 'Never', 'be', 'enough', 'For', 'me']\n"
     ]
    }
   ],
   "source": [
    "string1 = []\n",
    "for line in string_list:\n",
    "    words = line.split(sep=' ')\n",
    "    for word in words:\n",
    "        string1.append(word)\n",
    "print(string1)"
   ]
  },
  {
   "cell_type": "code",
   "execution_count": 53,
   "metadata": {},
   "outputs": [
    {
     "name": "stdout",
     "output_type": "stream",
     "text": [
      "['Towers', 'of', 'gold', 'are', 'still', 'too', 'little', 'These', 'hands', 'could', 'hold', 'the', 'world', 'but', \"it'll\", 'Never', 'be', 'enough', 'Never', 'be', 'enough', 'For', 'me']\n"
     ]
    }
   ],
   "source": [
    "string1 = [word for line in string_list for word in line.split(sep=' ')]  ##  list comprehension....\n",
    "print(string1)"
   ]
  },
  {
   "cell_type": "code",
   "execution_count": 56,
   "metadata": {},
   "outputs": [
    {
     "name": "stdout",
     "output_type": "stream",
     "text": [
      "['Towers', 'of', 'gold', 'are', 'still', 'too', 'little', 'These', 'hands', 'could', 'hold', 'the', 'world', 'but', \"it'll\", 'Never', 'be', 'enough', 'Never', 'be', 'enough', 'For', 'me']\n"
     ]
    }
   ],
   "source": [
    "print(string.replace('\\n',' ').split(sep=' '))"
   ]
  },
  {
   "cell_type": "code",
   "execution_count": 58,
   "metadata": {},
   "outputs": [
    {
     "name": "stdout",
     "output_type": "stream",
     "text": [
      "{'Never', 'too', 'the', 'These', 'of', 'be', 'enough', 'world', 'still', 'hands', 'but', 'For', 'Towers', 'me', 'are', 'hold', 'gold', 'could', \"it'll\", 'little'}\n"
     ]
    }
   ],
   "source": [
    "print(set(string1))"
   ]
  },
  {
   "cell_type": "markdown",
   "metadata": {},
   "source": [
    "### < EXERCISE 4-1 > "
   ]
  },
  {
   "cell_type": "code",
   "execution_count": 71,
   "metadata": {},
   "outputs": [],
   "source": [
    "word_py1 = set('Python')\n",
    "word_py2 = set('Pythagoras')\n",
    "D = {x for x in word_py2 if x in word_py1}"
   ]
  },
  {
   "cell_type": "code",
   "execution_count": 72,
   "metadata": {},
   "outputs": [],
   "source": [
    "U = {x for x in list(word_py2) + list(word_py1)}"
   ]
  },
  {
   "cell_type": "code",
   "execution_count": 73,
   "metadata": {},
   "outputs": [
    {
     "data": {
      "text/plain": [
       "{'a', 'g', 'n', 'r', 's'}"
      ]
     },
     "execution_count": 73,
     "metadata": {},
     "output_type": "execute_result"
    }
   ],
   "source": [
    "{x for x in U if x not in D}   ##  Symmetric difference...  XOR operation for sets"
   ]
  },
  {
   "cell_type": "code",
   "execution_count": null,
   "metadata": {},
   "outputs": [],
   "source": []
  }
 ],
 "metadata": {
  "kernelspec": {
   "display_name": "Python 3",
   "language": "python",
   "name": "python3"
  },
  "language_info": {
   "codemirror_mode": {
    "name": "ipython",
    "version": 3
   },
   "file_extension": ".py",
   "mimetype": "text/x-python",
   "name": "python",
   "nbconvert_exporter": "python",
   "pygments_lexer": "ipython3",
   "version": "3.6.4"
  }
 },
 "nbformat": 4,
 "nbformat_minor": 2
}
