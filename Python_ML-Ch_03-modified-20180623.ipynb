{
 "cells": [
  {
   "cell_type": "markdown",
   "metadata": {},
   "source": [
    "# PART I   < Python程式設計 >\n",
    "# 3. 流程控制與資料結構\n",
    "- [3.1 流程控制](#流程控制)\n",
    "- [3.2 資料結構](#資料結構)"
   ]
  },
  {
   "cell_type": "markdown",
   "metadata": {},
   "source": [
    "<a id='流程控制'></a>\n",
    "## 3.1  流程控制\n",
    "- [if, if...else..., elif 敘述](#if, if...else..., elif 敘述)\n",
    "- [while 敘述](#while 敘述)\n",
    "- [for 敘述](#for 敘述)\n",
    "- [for ... else ... with break / continue](#for ... else ...)"
   ]
  },
  {
   "cell_type": "markdown",
   "metadata": {},
   "source": [
    "<a id='if,if...else...,elif敘述'></a>\n",
    "### if, if...else..., elif 敘述"
   ]
  },
  {
   "cell_type": "code",
   "execution_count": 3,
   "metadata": {},
   "outputs": [
    {
     "name": "stdout",
     "output_type": "stream",
     "text": [
      "Please enter a number: 0.5\n"
     ]
    }
   ],
   "source": [
    "x = float(input(\"Please enter a number: \"))"
   ]
  },
  {
   "cell_type": "code",
   "execution_count": 4,
   "metadata": {},
   "outputs": [
    {
     "data": {
      "text/plain": [
       "0.5"
      ]
     },
     "execution_count": 4,
     "metadata": {},
     "output_type": "execute_result"
    }
   ],
   "source": [
    "x"
   ]
  },
  {
   "cell_type": "code",
   "execution_count": 5,
   "metadata": {},
   "outputs": [
    {
     "name": "stdout",
     "output_type": "stream",
     "text": [
      "0.5  > 0\n"
     ]
    }
   ],
   "source": [
    "if x < 0:\n",
    "    print(x,'is less than zero !')\n",
    "elif x == 0:\n",
    "    print('0')\n",
    "elif x == 1:\n",
    "    print('1')\n",
    "else:\n",
    "    print(x,' > 0')"
   ]
  },
  {
   "cell_type": "markdown",
   "metadata": {},
   "source": [
    "- 關鍵字 elif 是 else if 縮寫，同時可以避免過多的縮排 (indentation)。\n",
    "- if ... elif ... elif ... 用法取代了了其他程式語言中的 switch 和 case 敘述語法。"
   ]
  },
  {
   "cell_type": "markdown",
   "metadata": {},
   "source": [
    "<a id='while 敘述'></a>\n",
    "### while 敘述"
   ]
  },
  {
   "cell_type": "markdown",
   "metadata": {},
   "source": [
    "#### [Example 3.1.1] 執行下列程式，計算 最⼤公因數(GCD) 和 費氏數列(Fibonacci numbers)："
   ]
  },
  {
   "cell_type": "code",
   "execution_count": 6,
   "metadata": {},
   "outputs": [
    {
     "name": "stdout",
     "output_type": "stream",
     "text": [
      "Please enter a number: 225\n",
      "Please enter a number: 99\n",
      " a =\t 225 \t b =\t 99\n",
      " GCD =  225\n",
      " a =\t 99 \t b =\t 225\n",
      " GCD =  99\n",
      " a =\t 27 \t b =\t 99\n",
      " GCD =  27\n",
      " a =\t 18 \t b =\t 27\n",
      " GCD =  18\n",
      " a =\t 9 \t b =\t 18\n",
      " GCD =  9\n",
      "\n",
      "Fibonacci numbers =  9 9 18 27 45 "
     ]
    }
   ],
   "source": [
    "# GCD: greatest common divisor\n",
    "a = int(input(\"Please enter a number: \"))\n",
    "b = int(input(\"Please enter a number: \"))\n",
    "# a, b = 21, 144\n",
    "while a != 0:\n",
    "    print(' a =\\t', a,'\\t b =\\t',b)\n",
    "    a, b = b % a, a\n",
    "    print(\" GCD = \", b, end='\\n')\n",
    "\n",
    "# Fibonacci series: F(i) = F(i-1) + F(i+1)\n",
    "# a, b = 0, 1\n",
    "print('\\nFibonacci numbers = ', end=' ')\n",
    "while b < 50:\n",
    "    print(b, end=' ')\n",
    "    a, b = b, a+b"
   ]
  },
  {
   "cell_type": "markdown",
   "metadata": {},
   "source": [
    "####  < EXERCISE > :\n",
    "#### 請修改上列程式，使其可以任意輸入 a 和 b 二數值，計算 GCD 和 費氏數列。"
   ]
  },
  {
   "cell_type": "markdown",
   "metadata": {},
   "source": [
    "<a id='for 敘述'></a>\n",
    "### for 敘述"
   ]
  },
  {
   "cell_type": "markdown",
   "metadata": {},
   "source": [
    "#### [ Example 3.1.2] 執行下列程式，分別輸出 (1)字串中的字母, (2)陣列中的元素, (3)計算字串長度."
   ]
  },
  {
   "cell_type": "code",
   "execution_count": 7,
   "metadata": {},
   "outputs": [
    {
     "name": "stdout",
     "output_type": "stream",
     "text": [
      "\n",
      ">> Print letters out of a string : 'Python 2.6.3'\n",
      " 第  1  個字元 : P\n",
      " 第  2  個字元 : y\n",
      " 第  3  個字元 : t\n",
      " 第  4  個字元 : h\n",
      " 第  5  個字元 : o\n",
      " 第  6  個字元 : n\n",
      " 第  7  個字元 :  \n",
      " 第  8  個字元 : 2\n",
      " 第  9  個字元 : .\n",
      " 第  10  個字元 : 6\n",
      " 第  11  個字元 : .\n",
      " 第  12  個字元 : 3\n",
      "\n",
      ">> Print the elements from an array...\n",
      " Language Version : R 3.4.1\n",
      " Language Version : Python 2.6.3\n",
      " Language Version : Scala 2.12.2\n",
      "\n",
      ">> Print a string length...\n",
      "R 3.4.1 \t length = 7\n",
      "Python 2.6.3 \t length = 12\n",
      "Scala 2.12.2 \t length = 12\n"
     ]
    }
   ],
   "source": [
    "225## (1) Using the for-loop to print letters out of a string...\n",
    "print(\"\\n>> Print letters out of a string : 'Python 2.6.3'\") \n",
    "i=0\n",
    "for alpha in 'Python 2.6.3':\n",
    "    i=i+1\n",
    "    print(' 第 ', i, ' 個字元 :', alpha)\n",
    "\n",
    "    \n",
    "## (2) Using the for-loop to print the elements from an array...\n",
    "print(\"\\n>> Print the elements from an array...\")\n",
    "languages = ['R 3.4.1', 'Python 2.6.3', 'Scala 2.12.2']\n",
    "for language in languages:\n",
    "   print (' Language Version :', language)\n",
    "\n",
    "\n",
    "## (3) Measuring a string length...\n",
    "print(\"\\n>> Print a string length...\")\n",
    "for count in languages:\n",
    "    print(count, '\\t length =', len(count))"
   ]
  },
  {
   "cell_type": "markdown",
   "metadata": {},
   "source": [
    "####  < EXERCISE > :\n",
    "請修改上列程式，使其可以分別輸出:\n",
    "- (1) 中文字串中的文字 (例如:'第 10 個字母 : 6' ),\n",
    "- (2) 陣列:['齊天大聖', '孫悟空', '花果山水簾洞'] 中的元素, \n",
    "- (3) 計算上述陣列中，各字串元素的長度。"
   ]
  },
  {
   "cell_type": "code",
   "execution_count": 8,
   "metadata": {},
   "outputs": [
    {
     "name": "stdout",
     "output_type": "stream",
     "text": [
      "\n",
      ">> Print letters out of a string : 'Python 2.6.3'\n",
      " 第  1  個字元 : 第\n",
      " 第  2  個字元 :  \n",
      " 第  3  個字元 : 1\n",
      " 第  4  個字元 : 0\n",
      " 第  5  個字元 :  \n",
      " 第  6  個字元 : 個\n",
      " 第  7  個字元 : 字\n",
      " 第  8  個字元 : 母\n",
      " 第  9  個字元 :  \n",
      " 第  10  個字元 : :\n",
      " 第  11  個字元 :  \n",
      " 第  12  個字元 : 6\n",
      "\n",
      ">> Print the elements from an array...\n",
      " Language Version : 齊天大聖\n",
      " Language Version : 孫悟空\n",
      " Language Version : 花果山水簾洞\n",
      "\n",
      ">> Print a string length...\n",
      "齊天大聖 \t length = 4\n",
      "孫悟空 \t length = 3\n",
      "花果山水簾洞 \t length = 6\n"
     ]
    }
   ],
   "source": [
    "225## (1) Using the for-loop to print letters out of a string...\n",
    "print(\"\\n>> Print letters out of a string : 'Python 2.6.3'\") \n",
    "i=0\n",
    "for alpha in '第 10 個字母 : 6':\n",
    "    i=i+1\n",
    "    print(' 第 ', i, ' 個字元 :', alpha)\n",
    "\n",
    "    \n",
    "## (2) Using the for-loop to print the elements from an array...\n",
    "print(\"\\n>> Print the elements from an array...\")\n",
    "languages = ['齊天大聖', '孫悟空', '花果山水簾洞']\n",
    "for language in languages:\n",
    "   print (' Language Version :', language)\n",
    "\n",
    "\n",
    "## (3) Measuring a string length...\n",
    "print(\"\\n>> Print a string length...\")\n",
    "for count in languages:\n",
    "    print(count, '\\t length =', len(count))"
   ]
  },
  {
   "cell_type": "markdown",
   "metadata": {},
   "source": [
    "#### [ Example 3.1.3]  執行下列程式,複製陣列中某些字串元素,並插入至所有元素之前"
   ]
  },
  {
   "cell_type": "code",
   "execution_count": 9,
   "metadata": {},
   "outputs": [
    {
     "name": "stdout",
     "output_type": "stream",
     "text": [
      "\n",
      " fruits (before) = ['apple', 'mango', 'watermelon', 'banana', 'pineapple']\n",
      "\n",
      " f = pineapple\n",
      "\n",
      " fruits (after) = ['banana', 'mango', 'apple', 'apple', 'mango', 'watermelon', 'banana', 'pineapple']\n"
     ]
    }
   ],
   "source": [
    "## Duplicating & Inserting elements in an array...\n",
    "fruits = ['apple', 'mango', 'watermelon', 'banana', 'pineapple']\n",
    "print('\\n fruits (before) =', fruits)\n",
    "\n",
    "for f in fruits[:]:  # Loop over a slice copy of the entire list.\n",
    "    if (len(f) <= 8) & (len(f) >= 5): # 與下一行敘述相同，差異在括號\n",
    "    ##   if len(f) <= 8 and len(f) >= 5:\n",
    "            fruits.insert(0, f)\n",
    "print('\\n f =', f)\n",
    "print('\\n fruits (after) =', fruits)"
   ]
  },
  {
   "cell_type": "markdown",
   "metadata": {},
   "source": [
    "####  < EXERCISE >  請修改 [ Example 3.1.3] 程式，使其可以分別依照下列⽅式輸出:\n",
    "- (1) 插入至原來陣列元素 banana 和 pineapple 之間, \n",
    "- (2) 設定欲複製的字串元素長度為 len(f) <= 6 或 > 9。\n",
    "\n",
    "[ 提示 ] : (2) 可以用運算元 or 或 |"
   ]
  },
  {
   "cell_type": "markdown",
   "metadata": {},
   "source": [
    "### `range()` 函數 "
   ]
  },
  {
   "cell_type": "code",
   "execution_count": 10,
   "metadata": {},
   "outputs": [
    {
     "name": "stdout",
     "output_type": "stream",
     "text": [
      "2 3 4 5 6 7 8 9 "
     ]
    }
   ],
   "source": [
    "for i in range(2, 10):     # same as range(2, 10, 1)\n",
    "    print(i, end=' ')      # => 2 3 4 5 6 7 8 9"
   ]
  },
  {
   "cell_type": "code",
   "execution_count": 11,
   "metadata": {},
   "outputs": [
    {
     "name": "stdout",
     "output_type": "stream",
     "text": [
      "range(0, 5)\n"
     ]
    }
   ],
   "source": [
    "print(range(5))      # Only show =>  range(0, 5)"
   ]
  },
  {
   "cell_type": "code",
   "execution_count": 12,
   "metadata": {},
   "outputs": [
    {
     "data": {
      "text/plain": [
       "[0, 1, 2, 3, 4]"
      ]
     },
     "execution_count": 12,
     "metadata": {},
     "output_type": "execute_result"
    }
   ],
   "source": [
    "list(range(5))   # OUTPUT => [0, 1, 2, 3, 4]"
   ]
  },
  {
   "cell_type": "markdown",
   "metadata": {},
   "source": [
    "#### Q : `range(-15, 25, 3)` 和 `range(-15, -25, -3)` 的範圍分別為何?"
   ]
  },
  {
   "cell_type": "markdown",
   "metadata": {},
   "source": [
    "#### [ Example 3.1.4 ] : range() 函數 與 for loop"
   ]
  },
  {
   "cell_type": "code",
   "execution_count": 13,
   "metadata": {},
   "outputs": [
    {
     "name": "stdout",
     "output_type": "stream",
     "text": [
      "0 + 1 + 2 + 3 + 4 =  10\n",
      " sum(range(5)) =  10\n",
      "\n",
      "notes[ 0 ] :  ti\n",
      "notes[ 1 ] :  do\n",
      "notes[ 2 ] :  re\n",
      "notes[ 3 ] :  mi\n",
      "notes[ 4 ] :  fa\n",
      "notes[ 5 ] :  sol\n",
      "notes[ 6 ] :  la\n"
     ]
    }
   ],
   "source": [
    "## Calculating0+1+2+3+4= 10 # Example Code - 1\n",
    "s=0\n",
    "n=5\n",
    "for i in range(n): \n",
    "    s=s+i\n",
    "    print(i, end='')\n",
    "    if i < (n-1): print(end=' + ')\n",
    "print(' = ', s)\n",
    "\n",
    "# Example Code - 2\n",
    "print(' sum(range(5)) = ', sum(range(5)), end='\\n\\n')\n",
    "\n",
    "##  Using len() function\n",
    "notes = ['ti', 'do', 're', 'mi', 'fa', 'sol', 'la']\n",
    "for i in range(len(notes)):\n",
    "        print('notes[', i, '] : ', notes[i])"
   ]
  },
  {
   "cell_type": "markdown",
   "metadata": {},
   "source": [
    "<a id='for ... else ...'></a>\n",
    "### for ... else ... with break / continue 敘述"
   ]
  },
  {
   "cell_type": "markdown",
   "metadata": {},
   "source": [
    "#### [ Example 3.1.5 ] : 執⾏下列程式 - 搜尋質數 (prime number)"
   ]
  },
  {
   "cell_type": "code",
   "execution_count": 14,
   "metadata": {},
   "outputs": [
    {
     "name": "stdout",
     "output_type": "stream",
     "text": [
      "2 is a prime number !\n",
      "3 is a prime number !\n",
      "4 equals 2 * 2  >>  4 is not a prime number.\n",
      "5 is a prime number !\n",
      "6 equals 2 * 3  >>  6 is not a prime number.\n",
      "7 is a prime number !\n",
      "8 equals 2 * 4  >>  8 is not a prime number.\n",
      "9 equals 3 * 3  >>  9 is not a prime number.\n",
      "10 equals 2 * 5  >>  10 is not a prime number.\n",
      "11 is a prime number !\n",
      "12 equals 2 * 6  >>  12 is not a prime number.\n",
      "13 is a prime number !\n",
      "14 equals 2 * 7  >>  14 is not a prime number.\n",
      "15 equals 3 * 5  >>  15 is not a prime number.\n",
      "16 equals 2 * 8  >>  16 is not a prime number.\n",
      "17 is a prime number !\n",
      "18 equals 2 * 9  >>  18 is not a prime number.\n",
      "19 is a prime number !\n"
     ]
    }
   ],
   "source": [
    "##  Finding the prime numbers less than 20...\n",
    "for n in range(2, 20):\n",
    "    for x in range(2, n):\n",
    "        if n % x == 0:\n",
    "            print(n, 'equals', x, '*', n//x, end=' ') \n",
    "            break\n",
    "    else:\n",
    "        # loop fell through without finding a factor \n",
    "        print(n, 'is a prime number !')\n",
    "        continue\n",
    "    print(' >> ', n, 'is not a prime number.')"
   ]
  },
  {
   "cell_type": "markdown",
   "metadata": {},
   "source": [
    "<a id='資料結構'></a>\n",
    "## 3.2  資料結構\n",
    "- [Lists (列表)](#Lists (列表)\n",
    "- [List Comprehension (列表精簡)](#List Comprehension (列表精簡)\n",
    "- [Basic Sequence Types — list, tuple, range](#Basic Sequence Types — list, tuple, range)\n",
    "- [Tuples (元組)](#Tuples (元組))\n",
    "- [Text Sequence Type (⽂字序列資料型別) — str](#Text Sequence Type (⽂字序列資料型別)\n",
    "- [Sets (集合)](#Sets (集合)\n",
    "- [Dictionaries (字典)](#Dictionaries (字典)\n",
    "\n",
    "### Ref :  C. Alex Hu, \"Data Structures with Python\", 2018/2/22."
   ]
  },
  {
   "cell_type": "code",
   "execution_count": 15,
   "metadata": {},
   "outputs": [],
   "source": [
    "## 先產⽣生下列列三筆資料：\n",
    "listNumbers = [ 1, 2, 3, 4, 5, 6, 7, 8, 9, 0]\n",
    "listLetters = ['A', 'b', 'C', 'd', 'E']\n",
    "listConstants = [ 1.41421, 3.14159, 2.71828]\n",
    "list0 = []\n"
   ]
  },
  {
   "cell_type": "code",
   "execution_count": 16,
   "metadata": {},
   "outputs": [
    {
     "data": {
      "text/plain": [
       "['A', 'b', 'C', 'd', 'E', 3, 4, 5]"
      ]
     },
     "execution_count": 16,
     "metadata": {},
     "output_type": "execute_result"
    }
   ],
   "source": [
    "## [extend() 的⽤用法]\n",
    "list0 = listLetters\n",
    "list0 # ['A', 'b', 'C', 'd', 'E']\n",
    "list0.extend(listNumbers[2:5])\n",
    "list0 # ['A', 'b', 'C', 'd', 'E', 3, 4, 5]\n"
   ]
  },
  {
   "cell_type": "code",
   "execution_count": 17,
   "metadata": {},
   "outputs": [
    {
     "data": {
      "text/plain": [
       "['A', 'b', 'C', 'd', 'E', 3, 4, 5]"
      ]
     },
     "execution_count": 17,
     "metadata": {},
     "output_type": "execute_result"
    }
   ],
   "source": [
    "## But… listLetters 原始資料被更更改！ WHY ???\n",
    "listLetters # ['A', 'b', 'C', 'd', 'E', 3, 4, 5] What happened?"
   ]
  },
  {
   "cell_type": "code",
   "execution_count": 18,
   "metadata": {},
   "outputs": [
    {
     "name": "stdout",
     "output_type": "stream",
     "text": [
      "['Fly', 'robin', 'fly', 'Fly', 'robin', 'fly', 'Fly', 'robin', 'fly', 'Up', 'up', 'to', 'the', 'sky']\n"
     ]
    }
   ],
   "source": [
    "words = ['Fly', 'robin', 'fly', 'Up', 'up', 'to', 'the', 'sky']\n",
    "w = ['Fly', 'robin', 'fly']\n",
    "\n",
    "w.extend(w)\n",
    "w.extend(words)\n",
    "print(w)"
   ]
  },
  {
   "cell_type": "code",
   "execution_count": 19,
   "metadata": {},
   "outputs": [],
   "source": [
    "def Stack_LIFO(prompt=' Push to Stack (type null if done): '):\n",
    "    stack = []\n",
    "    while True:\n",
    "        top = input(prompt)\n",
    "        if top in ('n', 'nu', 'nul', 'null'):\n",
    "            break\n",
    "        else:\n",
    "            stack.append(top)\n",
    "    \n",
    "    print('\\n Within Stack: ', stack, end='\\n\\n')\n",
    "    print(' <<< Pop the Stack --> LIFO : Last-In-First-Out ')\n",
    "    \n",
    "    for top in stack[:]: # Could we use \"for top in stack:\" instead?\n",
    "        print(' pop Stack : ', stack.pop())\n",
    "    print('\\n ******* Stack = ', stack)"
   ]
  },
  {
   "cell_type": "code",
   "execution_count": 20,
   "metadata": {},
   "outputs": [
    {
     "name": "stdout",
     "output_type": "stream",
     "text": [
      " Push to Stack (type null if done): a\n",
      " Push to Stack (type null if done): b\n",
      " Push to Stack (type null if done): c\n",
      " Push to Stack (type null if done): d\n",
      " Push to Stack (type null if done): e\n",
      " Push to Stack (type null if done): f\n",
      " Push to Stack (type null if done): g\n",
      " Push to Stack (type null if done): h\n",
      " Push to Stack (type null if done): i\n",
      " Push to Stack (type null if done): j\n",
      " Push to Stack (type null if done): k\n",
      " Push to Stack (type null if done): l\n",
      " Push to Stack (type null if done): m\n",
      " Push to Stack (type null if done): n\n",
      "\n",
      " Within Stack:  ['a', 'b', 'c', 'd', 'e', 'f', 'g', 'h', 'i', 'j', 'k', 'l', 'm']\n",
      "\n",
      " <<< Pop the Stack --> LIFO : Last-In-First-Out \n",
      " pop Stack :  m\n",
      " pop Stack :  l\n",
      " pop Stack :  k\n",
      " pop Stack :  j\n",
      " pop Stack :  i\n",
      " pop Stack :  h\n",
      " pop Stack :  g\n",
      " pop Stack :  f\n",
      " pop Stack :  e\n",
      " pop Stack :  d\n",
      " pop Stack :  c\n",
      " pop Stack :  b\n",
      " pop Stack :  a\n",
      "\n",
      " ******* Stack =  []\n"
     ]
    }
   ],
   "source": [
    "Stack_LIFO()"
   ]
  },
  {
   "cell_type": "markdown",
   "metadata": {},
   "source": [
    "## HW1-1 Solution"
   ]
  },
  {
   "cell_type": "code",
   "execution_count": 21,
   "metadata": {},
   "outputs": [
    {
     "name": "stdout",
     "output_type": "stream",
     "text": [
      " squareRoot( 1000000000 ) =  31622.7766\n",
      " squareRoot( 0.0001 ) =  0.01\n",
      " squareRoot( 81 ) =  9.0\n",
      " ****  a =  -9  :  < or = 0: ERROR !! \n",
      " ****  a =  0  :  < or = 0: ERROR !! \n",
      "\n",
      " nthRoot( 1000000000 ) =  1.23027  , where n =  100\n",
      " >>>   Decimal(10**(upper)) =  1.2302720667604620796709014030057005584239959716796875\n",
      "\n",
      " nthRoot( 0.001 ) =  0.1  , where n =  3\n",
      " >>>   Decimal(10**(upper)) =  0.1000008783703635606432413851507590152323246002197265625\n",
      "\n",
      " nthRoot( 81 ) =  9.00002  , where n =  2\n",
      " >>>   Decimal(10**(upper)) =  9.00001905455012973789052921347320079803466796875\n",
      "\n",
      " nthRoot( 27 ) =  9.00001  , where n =  1.5\n",
      " >>>   Decimal(10**(upper)) =  9.0000149732485699161088632536120712757110595703125\n",
      "\n",
      " **** nthRoot2( 27 ,  -1.5 ) : a / n < or = 0: ERROR !! \n",
      "\n",
      " **** nthRoot2( 27 ,  0 ) : a / n < or = 0: ERROR !! \n",
      "\n",
      " **** nthRoot2( -9 ,  2 ) : a / n < or = 0: ERROR !! \n",
      "\n",
      " **** nthRoot2( 0 ,  2.5 ) : a / n < or = 0: ERROR !! \n"
     ]
    },
    {
     "data": {
      "text/plain": [
       "(0, 2.5)"
      ]
     },
     "execution_count": 21,
     "metadata": {},
     "output_type": "execute_result"
    }
   ],
   "source": [
    "def squareRoot(a):\n",
    "    \"\"\"Calculate the square root of a, with Binary Search Algorithm.\"\"\"\n",
    "    if a <= 0:\n",
    "        print(' ****  a = ', a, ' :  < or = 0: ERROR !! ')\n",
    "        return a\n",
    "\n",
    "    lower, upper = 0, a\n",
    "    if a < 1:\n",
    "       lower, upper = a, a+1\n",
    "    while round(upper,5) != round(lower,5):\n",
    "        avg = (upper + lower) / 2.0\n",
    "        if avg**2 >= a:\n",
    "            upper = avg\n",
    "        else:\n",
    "            lower = avg\n",
    "            \n",
    "    sol = round(upper, 5)\n",
    "    print(' squareRoot(', a, ') = ', sol)\n",
    "    return [a, 2, sol]\n",
    "\n",
    "\n",
    "def nthRoot(a, n):\n",
    "    \"\"\"Calculate the nth root of a, with Binary Search Algorithmㄝ\n",
    "       where a > 0 and n > 0.\"\"\"\n",
    "    if a <= 0 or n <= 0:\n",
    "        print('\\n **** nthRoot2(', a,', ', n, ') : a / n < or = 0: ERROR !! ')\n",
    "        return a, n\n",
    "    \n",
    "    lower, upper, log_a = -(10**n), log(a, 10), log(a, 10)\n",
    "    if a < 1:\n",
    "        lower, upper = log_a, log_a + n\n",
    "        \n",
    "    while round(upper,5) != round(lower,5):\n",
    "        avg = (upper + lower) / 2.0\n",
    "        if avg >= log_a/n:\n",
    "            upper = avg\n",
    "        else:\n",
    "            lower = avg\n",
    "            \n",
    "    sol = round(10**(upper), 5)\n",
    "    print('\\n nthRoot(', a, ') = ', sol, ' , where n = ', n)\n",
    "    print(' >>>   Decimal(10**(upper)) = ', Decimal(10**(upper)), end='\\n')\n",
    "    return [a, n, sol]\n",
    "\n",
    "\n",
    "from decimal import *\n",
    "from math import log\n",
    "getcontext().prec = 30\n",
    "\n",
    "squareRoot(1000000000)\n",
    "squareRoot(0.0001)\n",
    "squareRoot(81)\n",
    "squareRoot(-9)\n",
    "squareRoot(0)\n",
    "\n",
    "nthRoot(1000000000, 100)\n",
    "nthRoot(0.001, 3)\n",
    "nthRoot(81, 2)\n",
    "nthRoot(27, 1.5)\n",
    "nthRoot(27, -1.5)\n",
    "nthRoot(27, 0)\n",
    "nthRoot(-9, 2)\n",
    "nthRoot(0, 2.5)\n"
   ]
  },
  {
   "cell_type": "code",
   "execution_count": 22,
   "metadata": {},
   "outputs": [
    {
     "name": "stdout",
     "output_type": "stream",
     "text": [
      " squareRoot( 1000000000 ) =  31622.7766\n"
     ]
    },
    {
     "data": {
      "text/plain": [
       "[1000000000, 2, 31622.7766]"
      ]
     },
     "execution_count": 22,
     "metadata": {},
     "output_type": "execute_result"
    }
   ],
   "source": [
    "squareRoot(1000000000)"
   ]
  },
  {
   "cell_type": "markdown",
   "metadata": {},
   "source": [
    "## HW1-2 Solution"
   ]
  },
  {
   "cell_type": "code",
   "execution_count": 24,
   "metadata": {},
   "outputs": [
    {
     "name": "stdout",
     "output_type": "stream",
     "text": [
      " *******  Enter n = 12\n",
      " count =  1 \t a = 1 \t b = 2 \t b/a =  2 \t (a+b)/b =  1.5\n",
      " count =  2 \t a = 2 \t b = 3 \t b/a =  1.5 \t (a+b)/b =  1.6666666666666666666666666666666666666666666666667\n",
      " count =  3 \t a = 3 \t b = 5 \t b/a =  1.6666666666666666666666666666666666666666666666667 \t (a+b)/b =  1.6\n",
      " count =  4 \t a = 5 \t b = 8 \t b/a =  1.6 \t (a+b)/b =  1.625\n",
      " count =  5 \t a = 8 \t b = 13 \t b/a =  1.625 \t (a+b)/b =  1.6153846153846153846153846153846153846153846153846\n",
      " count =  6 \t a = 13 \t b = 21 \t b/a =  1.6153846153846153846153846153846153846153846153846 \t (a+b)/b =  1.6190476190476190476190476190476190476190476190476\n",
      " count =  7 \t a = 21 \t b = 34 \t b/a =  1.6190476190476190476190476190476190476190476190476 \t (a+b)/b =  1.6176470588235294117647058823529411764705882352941\n",
      " count =  8 \t a = 34 \t b = 55 \t b/a =  1.6176470588235294117647058823529411764705882352941 \t (a+b)/b =  1.6181818181818181818181818181818181818181818181818\n",
      " count =  9 \t a = 55 \t b = 89 \t b/a =  1.6181818181818181818181818181818181818181818181818 \t (a+b)/b =  1.6179775280898876404494382022471910112359550561798\n",
      " count =  10 \t a = 89 \t b = 144 \t b/a =  1.6179775280898876404494382022471910112359550561798 \t (a+b)/b =  1.6180555555555555555555555555555555555555555555556\n",
      " count =  11 \t a = 144 \t b = 233 \t b/a =  1.6180555555555555555555555555555555555555555555556 \t (a+b)/b =  1.6180257510729613733905579399141630901287553648069\n",
      " count =  12 \t a = 233 \t b = 377 \t b/a =  1.6180257510729613733905579399141630901287553648069 \t (a+b)/b =  1.6180371352785145888594164456233421750663129973475\n",
      " count =  13 \t a = 377 \t b = 610 \t b/a =  1.6180371352785145888594164456233421750663129973475 \t (a+b)/b =  1.6180327868852459016393442622950819672131147540984\n",
      " count =  14 \t a = 610 \t b = 987 \t b/a =  1.6180327868852459016393442622950819672131147540984 \t (a+b)/b =  1.6180344478216818642350557244174265450861195542047\n",
      " count =  15 \t a = 987 \t b = 1597 \t b/a =  1.6180344478216818642350557244174265450861195542047 \t (a+b)/b =  1.6180338134001252348152786474639949906073888541014\n",
      " count =  16 \t a = 1597 \t b = 2584 \t b/a =  1.6180338134001252348152786474639949906073888541014 \t (a+b)/b =  1.6180340557275541795665634674922600619195046439628\n",
      " count =  17 \t a = 2584 \t b = 4181 \t b/a =  1.6180340557275541795665634674922600619195046439628 \t (a+b)/b =  1.6180339631667065295383879454675914852906003348481\n",
      " count =  18 \t a = 4181 \t b = 6765 \t b/a =  1.6180339631667065295383879454675914852906003348481 \t (a+b)/b =  1.6180339985218033998521803399852180339985218033998\n",
      " count =  19 \t a = 6765 \t b = 10946 \t b/a =  1.6180339985218033998521803399852180339985218033999 \t (a+b)/b =  1.6180339850173579389731408733784030696144710396492\n",
      " count =  20 \t a = 10946 \t b = 17711 \t b/a =  1.6180339850173579389731408733784030696144710396492 \t (a+b)/b =  1.6180339901755970865563773925808819377787815481904\n",
      " count =  21 \t a = 17711 \t b = 28657 \t b/a =  1.6180339901755970865563773925808819377787815481904 \t (a+b)/b =  1.6180339882053250514708448197648044107896848937432\n",
      " count =  22 \t a = 28657 \t b = 46368 \t b/a =  1.6180339882053250514708448197648044107896848937432 \t (a+b)/b =  1.6180339889579020013802622498274672187715665976536\n",
      " count =  23 \t a = 46368 \t b = 75025 \t b/a =  1.6180339889579020013802622498274672187715665976536 \t (a+b)/b =  1.6180339886704431856047984005331556147950683105632\n",
      " count =  24 \t a = 75025 \t b = 121393 \t b/a =  1.6180339886704431856047984005331556147950683105631 \t (a+b)/b =  1.6180339887802426828565073768668704126267577207912\n",
      " count =  25 \t a = 121393 \t b = 196418 \t b/a =  1.6180339887802426828565073768668704126267577207911 \t (a+b)/b =  1.6180339887383030068527324379639340589966296367950\n",
      " count =  26 \t a = 196418 \t b = 317811 \t b/a =  1.6180339887383030068527324379639340589966296367950 \t (a+b)/b =  1.6180339887543225376088304054925726296446630229916\n",
      " count =  27 \t a = 317811 \t b = 514229 \t b/a =  1.6180339887543225376088304054925726296446630229917 \t (a+b)/b =  1.6180339887482036213437981910782939118563908297665\n",
      " count =  28 \t a = 514229 \t b = 832040 \t b/a =  1.6180339887482036213437981910782939118563908297665 \t (a+b)/b =  1.6180339887505408393827219845199750012018652949377\n",
      " count =  29 \t a = 832040 \t b = 1346269 \t b/a =  1.6180339887505408393827219845199750012018652949377 \t (a+b)/b =  1.6180339887496481015309718934328874838535240728265\n",
      " count =  30 \t a = 1346269 \t b = 2178309 \t b/a =  1.6180339887496481015309718934328874838535240728265 \t (a+b)/b =  1.6180339887499890970472967792907250532408395686746\n",
      "\n",
      " Golden Ratio for n =  12 :\n",
      " 1.6180339887496481015309718934328874838535240728265\n",
      "\n",
      " #####  Verifying the answer...\n",
      "\n",
      "\t    Decimal(b/a) =  1.6180339887496481015309718934328874838535240728265 \n",
      "\t  Decimal(1+a/b) =  1.6180339887499890970472967792907250532408395686746\n",
      "\n",
      "\t    GRvalue      =  1.6180339887496481015309718934328874838535240728265 \n",
      "          1/GRvalue      =  0.61803398874998909704729677929072505324083956867458 \n",
      "         GRvalue**2      =  2.6180339887490963591955469926232422361842144248696\n",
      "\n",
      " <  The Result OUTPUT  >: \n",
      "\t\t\t##123456789012\n",
      "\t\t\t -------------\n",
      "\t\t\t1.618033988749\n",
      "\n",
      " *****  The True Golden Value :\n",
      "\n",
      "  Incorrect Golden Ratio by Decimal(GR) =  1.6180339887498949025257388711906969547271728515625  -->  Incorrect format & result from GR due to binary approximation !!\n",
      "\n",
      "  Golden Ratio (GR) =  1.61803398874989484820458683436563811772030917980576 \n",
      "          1/GR      =  0.61803398874989484820458683436563811772030917980576 \n",
      "         GR**2      =  2.6180339887498948482045868343656381177203091798058\n"
     ]
    }
   ],
   "source": [
    "def goldRatio(n):\n",
    "    \"\"\"n = The round-off digit after the decimal point\"\"\"\n",
    "    \n",
    "    ##  Only need three-line statements for reaching the answer....\n",
    "    a, b, count = 1, 1, 0\n",
    "    while (round(Decimal(str(1+a/b)),n) - round(Decimal(str(b/a)),n)) != 0:       #  count = 73 for n = 30\n",
    "    #  while abs(Decimal(str(1+a/b))/Decimal(str(b/a)) - Decimal('1.0')) > 0.1**(n+1):    #  count = 74 for n = 30\n",
    "        a, b, count = Decimal(str(b)), Decimal(str(a+b)), count+1\n",
    "        print(' count = ', count, '\\t a =', a, '\\t b =', b, '\\t b/a = ', Decimal(str(b/a)),'\\t (a+b)/b = ', Decimal(str(1+a/b)))\n",
    "\n",
    "    ##  Verifying the answer and printing the output ... \n",
    "    grvalue = Decimal(str(b/a))\n",
    "    print (\"\\n Golden Ratio for n = \", n, \":\\n\", grvalue)\n",
    "    verifyGRValue(grvalue, a, b)          #  Verifying the answer...\n",
    "    output_n_digits(grvalue, n)     #  Output the answer up to n digits after the decimal point.\n",
    "    return (a, b, a+b, (Decimal(b/a)), Decimal(1+a/b))\n",
    "\n",
    "def verifyGRValue(grvalue, a, b):\n",
    "        print('\\n #####  Verifying the answer...')\n",
    "        print('\\n\\t    Decimal(b/a) = ', Decimal(str(b/a)), '\\n\\t  Decimal(1+a/b) = ', Decimal(str(1+a/b)))\n",
    "        print('\\n\\t    GRvalue      = ', grvalue,'\\n          1/GRvalue      = ', 1/grvalue,'\\n         GRvalue**2      = ', grvalue**2)  \n",
    "\n",
    "\n",
    "def output_n_digits(grvalue, n):\n",
    "    list1 = list(str(grvalue))\n",
    "\n",
    "    print('\\n <  The Result OUTPUT  >: \\n\\t\\t\\t##',end='')\n",
    "    for i in range(1, n+1, 1):\n",
    "        print(i%10, end='')\n",
    "\n",
    "    print('\\n\\t\\t\\t','-'*(n+1), end='\\n\\t\\t\\t')\n",
    "\n",
    "    for j in range(0, n+2, 1):\n",
    "        print(list1.pop(0), end='')\n",
    "\n",
    "    \n",
    "def trueGRValue():\n",
    "    getcontext().prec = 50\n",
    "    g_r0 = Decimal(1.61803398874989484820458683436563811772030917980576)\n",
    "    g_r  = Decimal('1.61803398874989484820458683436563811772030917980576')\n",
    "    g_r1 = g_r**(-1)\n",
    "    g_r2 = g_r**2\n",
    "    g_r1 = Decimal(g_r1)\n",
    "    g_r2 = Decimal(g_r2)\n",
    "    print('\\n\\n *****  The True Golden Value :')\n",
    "    print('\\n  Incorrect Golden Ratio by Decimal(GR) = ', g_r0, ' -->  Incorrect format & result from GR due to binary approximation !!')  \n",
    "    print('\\n  Golden Ratio (GR) = ', g_r,'\\n          1/GR      = ', g_r1,'\\n         GR**2      = ', g_r2) \n",
    "\n",
    "    \n",
    "from decimal import *\n",
    "from math import sqrt\n",
    "getcontext().prec = 50\n",
    "\n",
    "n = int(input(' *******  Enter n = '))\n",
    "goldRatio(n)\n",
    "\n",
    "trueGRValue()\n",
    "\n"
   ]
  },
  {
   "cell_type": "code",
   "execution_count": 25,
   "metadata": {},
   "outputs": [],
   "source": [
    "## List Comprehension\n",
    "def list_Compreh():\n",
    "    A = [2*n+1 for n in range(1,10)]\n",
    "    B = [x**2 for x in A if x < 12]\n",
    "    print(A) # [3, 5, 7, 9, 11, 13, 15, 17, 19]\n",
    "    print(B) # [9, 25, 49, 81, 121]"
   ]
  },
  {
   "cell_type": "code",
   "execution_count": 26,
   "metadata": {},
   "outputs": [
    {
     "name": "stdout",
     "output_type": "stream",
     "text": [
      "[3, 5, 7, 9, 11, 13, 15, 17, 19]\n",
      "[9, 25, 49, 81, 121]\n"
     ]
    }
   ],
   "source": [
    "list_Compreh()"
   ]
  },
  {
   "cell_type": "code",
   "execution_count": 34,
   "metadata": {},
   "outputs": [
    {
     "data": {
      "text/plain": [
       "[3, 5, 7, 9, 11, 13, 15, 17, 19]"
      ]
     },
     "execution_count": 34,
     "metadata": {},
     "output_type": "execute_result"
    }
   ],
   "source": [
    "A = []\n",
    "for n in range(1,10):\n",
    "    A.append(2*n+1)\n",
    "A"
   ]
  },
  {
   "cell_type": "code",
   "execution_count": 35,
   "metadata": {},
   "outputs": [
    {
     "data": {
      "text/plain": [
       "[9, 25, 49, 81, 121]"
      ]
     },
     "execution_count": 35,
     "metadata": {},
     "output_type": "execute_result"
    }
   ],
   "source": [
    "B = []\n",
    "for x in A:\n",
    "    if x < 12:\n",
    "        B.append(x**2)\n",
    "B"
   ]
  },
  {
   "cell_type": "code",
   "execution_count": 29,
   "metadata": {},
   "outputs": [
    {
     "data": {
      "text/plain": [
       "[('Apple', 'Google'),\n",
       " ('Apple', 'Microsoft'),\n",
       " ('Android', 'Google'),\n",
       " ('Android', 'Apple'),\n",
       " ('Android', 'Microsoft'),\n",
       " ('Asus', 'Google'),\n",
       " ('Asus', 'Apple'),\n",
       " ('Asus', 'Microsoft')]"
      ]
     },
     "execution_count": 29,
     "metadata": {},
     "output_type": "execute_result"
    }
   ],
   "source": [
    "pairs = []\n",
    "for i in ['Apple','Android','Asus']: ## Nested loops…\n",
    "    for j in ['Google','Apple','Microsoft']:\n",
    "        if i != j:\n",
    "            pairs.append((i, j))\n",
    "pairs"
   ]
  },
  {
   "cell_type": "code",
   "execution_count": 31,
   "metadata": {},
   "outputs": [
    {
     "data": {
      "text/plain": [
       "[('Apple', 'Google'),\n",
       " ('Apple', 'Microsoft'),\n",
       " ('Android', 'Google'),\n",
       " ('Android', 'Apple'),\n",
       " ('Android', 'Microsoft'),\n",
       " ('Asus', 'Google'),\n",
       " ('Asus', 'Apple'),\n",
       " ('Asus', 'Microsoft')]"
      ]
     },
     "execution_count": 31,
     "metadata": {},
     "output_type": "execute_result"
    }
   ],
   "source": [
    "[(i, j) for i in ['Apple','Android','Asus'] for j in ['Google','Apple','Microsoft'] if i != j]"
   ]
  },
  {
   "cell_type": "code",
   "execution_count": 37,
   "metadata": {},
   "outputs": [
    {
     "data": {
      "text/plain": [
       "[(1, 4, 2.5),\n",
       " (1, 2, 1.5),\n",
       " (3, 4, 3.5),\n",
       " (3, 1, 2.0),\n",
       " (3, 2, 2.5),\n",
       " (5, 4, 4.5),\n",
       " (5, 1, 3.0),\n",
       " (5, 2, 3.5)]"
      ]
     },
     "execution_count": 37,
     "metadata": {},
     "output_type": "execute_result"
    }
   ],
   "source": [
    "pairs = [(i, j, (i+j)/2) for i in [1,3,5] for j in [4,1,2] if i != j]\n",
    "pairs"
   ]
  },
  {
   "cell_type": "code",
   "execution_count": 42,
   "metadata": {},
   "outputs": [
    {
     "name": "stdout",
     "output_type": "stream",
     "text": [
      "[2, 3, 5, 7, 11, 13, 17, 19, 23, 29, 31, 37, 41, 43, 47, 53, 59, 61, 67, 71, 73, 79, 83, 89, 97]\n"
     ]
    }
   ],
   "source": [
    "prime = []\n",
    "A = []\n",
    "\n",
    "for i in range(2, 11):\n",
    "    for j in range(i*2, 100, i):\n",
    "        A.append(j)\n",
    " \n",
    "for x in range(2, 100):\n",
    "    if x not in A:\n",
    "        prime.append(x)\n",
    "        \n",
    "print(prime)"
   ]
  },
  {
   "cell_type": "markdown",
   "metadata": {},
   "source": [
    "### 2. * (repetition)運算 — seq*n or n*seq"
   ]
  },
  {
   "cell_type": "code",
   "execution_count": 43,
   "metadata": {},
   "outputs": [
    {
     "data": {
      "text/plain": [
       "[[1], [1]]"
      ]
     },
     "execution_count": 43,
     "metadata": {},
     "output_type": "execute_result"
    }
   ],
   "source": [
    ">>> list1 = [[1]]\n",
    ">>> list2 = list1 * 2\n",
    ">>> list2"
   ]
  },
  {
   "cell_type": "code",
   "execution_count": 44,
   "metadata": {},
   "outputs": [
    {
     "data": {
      "text/plain": [
       "[[1, 2], [1, 2]]"
      ]
     },
     "execution_count": 44,
     "metadata": {},
     "output_type": "execute_result"
    }
   ],
   "source": [
    ">>> list2[0].append(2)\n",
    ">>> list2"
   ]
  },
  {
   "cell_type": "code",
   "execution_count": 45,
   "metadata": {},
   "outputs": [],
   "source": [
    "list2.append(2)"
   ]
  },
  {
   "cell_type": "code",
   "execution_count": 46,
   "metadata": {},
   "outputs": [
    {
     "data": {
      "text/plain": [
       "[[1, 2], [1, 2], 2]"
      ]
     },
     "execution_count": 46,
     "metadata": {},
     "output_type": "execute_result"
    }
   ],
   "source": [
    "list2"
   ]
  },
  {
   "cell_type": "code",
   "execution_count": 47,
   "metadata": {},
   "outputs": [
    {
     "data": {
      "text/plain": [
       "[[1, 2]]"
      ]
     },
     "execution_count": 47,
     "metadata": {},
     "output_type": "execute_result"
    }
   ],
   "source": [
    "list1"
   ]
  },
  {
   "cell_type": "markdown",
   "metadata": {},
   "source": [
    "###  4. +(concatenation)運算 — seq1 + seq2"
   ]
  },
  {
   "cell_type": "code",
   "execution_count": 49,
   "metadata": {},
   "outputs": [
    {
     "data": {
      "text/plain": [
       "[162, 164, 166, 168, 170, 172]"
      ]
     },
     "execution_count": 49,
     "metadata": {},
     "output_type": "execute_result"
    }
   ],
   "source": [
    "seq1 = [chr(i) for i in range(65,71)]\n",
    "seq2 = [chr(i) for i in range(97,103)]\n",
    "[ord(seq1[i]) + ord(seq2[i]) for i in range(6)]"
   ]
  },
  {
   "cell_type": "code",
   "execution_count": 50,
   "metadata": {},
   "outputs": [
    {
     "data": {
      "text/plain": [
       "[[65, 97], [66, 98], [67, 99], [68, 100], [69, 101], [70, 102]]"
      ]
     },
     "execution_count": 50,
     "metadata": {},
     "output_type": "execute_result"
    }
   ],
   "source": [
    "[[ord(seq1[i])] + [ord(seq2[i])] for i in range(6)]"
   ]
  },
  {
   "cell_type": "code",
   "execution_count": 51,
   "metadata": {},
   "outputs": [
    {
     "data": {
      "text/plain": [
       "[['Towers', 'of', 'gold', 'are', 'still', 'too', 'little'],\n",
       " ['These', 'hands', 'could', 'hold', 'the', 'world', 'but', \"it'll\"],\n",
       " ['Never', 'be', 'enough'],\n",
       " ['Never', 'be', 'enough'],\n",
       " ['For', 'me']]"
      ]
     },
     "execution_count": 51,
     "metadata": {},
     "output_type": "execute_result"
    }
   ],
   "source": [
    ">>> string = '''Towers of gold are still too little\n",
    "These hands could hold the world but it'll\n",
    "Never be enough\n",
    "Never be enough\n",
    "For me'''\n",
    "\n",
    ">>> string_list = string.splitlines()\n",
    "\n",
    ">>> string1 = []\n",
    ">>> for line in string_list:\n",
    "    string1.append(line.split(sep=' '))\n",
    ">>> string1"
   ]
  },
  {
   "cell_type": "code",
   "execution_count": 55,
   "metadata": {},
   "outputs": [
    {
     "name": "stdout",
     "output_type": "stream",
     "text": [
      "['Towers', 'of', 'gold', 'are', 'still', 'too', 'little', 'These', 'hands', 'could', 'hold', 'the', 'world', 'but', \"it'll\", 'Never', 'be', 'enough', 'Never', 'be', 'enough', 'For', 'me']\n"
     ]
    }
   ],
   "source": [
    "string1 = []\n",
    "for line in string_list:\n",
    "    string1.extend(line.split(sep=' '))\n",
    "print(string1)"
   ]
  },
  {
   "cell_type": "code",
   "execution_count": 56,
   "metadata": {},
   "outputs": [
    {
     "data": {
      "text/plain": [
       "[['Towers', 'of', 'gold', 'are', 'still', 'too', 'little'],\n",
       " ['These', 'hands', 'could', 'hold', 'the', 'world', 'but', \"it'll\"],\n",
       " ['Never', 'be', 'enough'],\n",
       " ['Never', 'be', 'enough'],\n",
       " ['For', 'me']]"
      ]
     },
     "execution_count": 56,
     "metadata": {},
     "output_type": "execute_result"
    }
   ],
   "source": [
    "[ line.split(sep=' ') for line in string_list ]"
   ]
  },
  {
   "cell_type": "markdown",
   "metadata": {},
   "source": [
    "## [ EXERCISE ]"
   ]
  },
  {
   "cell_type": "code",
   "execution_count": 61,
   "metadata": {},
   "outputs": [
    {
     "name": "stdout",
     "output_type": "stream",
     "text": [
      "['Towers', 'of', 'gold', 'are', 'still', 'too', 'little', 'These', 'hands', 'could', 'hold', 'the', 'world', 'but', \"it'll\", 'Never', 'be', 'enough', 'Never', 'be', 'enough', 'For', 'me']\n"
     ]
    }
   ],
   "source": [
    "string1 = []\n",
    "for line in string_list:\n",
    "    words = line.split(sep=' ')\n",
    "    for word in words:\n",
    "        string1.append(word)\n",
    "print(string1)"
   ]
  },
  {
   "cell_type": "code",
   "execution_count": 63,
   "metadata": {},
   "outputs": [
    {
     "name": "stdout",
     "output_type": "stream",
     "text": [
      "['Towers', 'of', 'gold', 'are', 'still', 'too', 'little', 'These', 'hands', 'could', 'hold', 'the', 'world', 'but', \"it'll\", 'Never', 'be', 'enough', 'Never', 'be', 'enough', 'For', 'me']\n"
     ]
    }
   ],
   "source": [
    "print([word for line in string_list for word in line.split(sep=' ')])"
   ]
  },
  {
   "cell_type": "markdown",
   "metadata": {},
   "source": [
    "### [ Example 4.2 set 物件數學運算 ]"
   ]
  },
  {
   "cell_type": "code",
   "execution_count": 64,
   "metadata": {},
   "outputs": [
    {
     "data": {
      "text/plain": [
       "{'P', 'h', 'o', 't', 'y'}"
      ]
     },
     "execution_count": 64,
     "metadata": {},
     "output_type": "execute_result"
    }
   ],
   "source": [
    ">>> word_py1 = set('Python')\n",
    ">>> word_py2 = set('Pythagoras')\n",
    "\n",
    ">>> word_py2 & word_py1 # intersection                   "
   ]
  },
  {
   "cell_type": "code",
   "execution_count": 65,
   "metadata": {},
   "outputs": [
    {
     "data": {
      "text/plain": [
       "{'P', 'a', 'g', 'h', 'n', 'o', 'r', 's', 't', 'y'}"
      ]
     },
     "execution_count": 65,
     "metadata": {},
     "output_type": "execute_result"
    }
   ],
   "source": [
    ">>> word_py2 | word_py1 # union"
   ]
  },
  {
   "cell_type": "code",
   "execution_count": 66,
   "metadata": {},
   "outputs": [
    {
     "data": {
      "text/plain": [
       "{'a', 'g', 'r', 's'}"
      ]
     },
     "execution_count": 66,
     "metadata": {},
     "output_type": "execute_result"
    }
   ],
   "source": [
    ">>> word_py2 - word_py1 # difference : word_py2 - word_py1"
   ]
  },
  {
   "cell_type": "code",
   "execution_count": 67,
   "metadata": {},
   "outputs": [
    {
     "data": {
      "text/plain": [
       "{'n'}"
      ]
     },
     "execution_count": 67,
     "metadata": {},
     "output_type": "execute_result"
    }
   ],
   "source": [
    ">>> word_py1 - word_py2 # difference : word_py1 - word_py2"
   ]
  },
  {
   "cell_type": "code",
   "execution_count": 68,
   "metadata": {},
   "outputs": [
    {
     "data": {
      "text/plain": [
       "{'a', 'g', 'n', 'r', 's'}"
      ]
     },
     "execution_count": 68,
     "metadata": {},
     "output_type": "execute_result"
    }
   ],
   "source": [
    ">>> word_py2 ^ word_py1 # symmetric difference"
   ]
  },
  {
   "cell_type": "markdown",
   "metadata": {},
   "source": [
    "### [ Example 4.3 set 可以使用 set comprehension 運算 ]"
   ]
  },
  {
   "cell_type": "code",
   "execution_count": 82,
   "metadata": {},
   "outputs": [
    {
     "data": {
      "text/plain": [
       "{'P', 'h', 'o', 't', 'y'}"
      ]
     },
     "execution_count": 82,
     "metadata": {},
     "output_type": "execute_result"
    }
   ],
   "source": [
    "{x for x in word_py2 if x in word_py1} # intersection"
   ]
  },
  {
   "cell_type": "code",
   "execution_count": 83,
   "metadata": {},
   "outputs": [
    {
     "data": {
      "text/plain": [
       "{'a', 'g', 'r', 's'}"
      ]
     },
     "execution_count": 83,
     "metadata": {},
     "output_type": "execute_result"
    }
   ],
   "source": [
    "{x for x in word_py2 if x not in word_py1} # difference"
   ]
  },
  {
   "cell_type": "code",
   "execution_count": 84,
   "metadata": {},
   "outputs": [
    {
     "data": {
      "text/plain": [
       "{'n'}"
      ]
     },
     "execution_count": 84,
     "metadata": {},
     "output_type": "execute_result"
    }
   ],
   "source": [
    "{x for x in word_py1 if x not in word_py2} # difference"
   ]
  },
  {
   "cell_type": "markdown",
   "metadata": {},
   "source": [
    "### < EXERCISE 4-1 >\n",
    "#### 在 Example 4.2 中的 set intersection 和 difference 改寫成 set comprehension 的結果，分別顯示於 Example 4.3 中。\n",
    "#### 請問，如何改寫 set union 和 symmetric difference 程式部份？"
   ]
  },
  {
   "cell_type": "code",
   "execution_count": 86,
   "metadata": {},
   "outputs": [
    {
     "data": {
      "text/plain": [
       "{'P', 'a', 'g', 'h', 'n', 'o', 'r', 's', 't', 'y'}"
      ]
     },
     "execution_count": 86,
     "metadata": {},
     "output_type": "execute_result"
    }
   ],
   "source": [
    "{x for x in list(word_py2) + list(word_py1)} # union"
   ]
  },
  {
   "cell_type": "code",
   "execution_count": 87,
   "metadata": {},
   "outputs": [
    {
     "data": {
      "text/plain": [
       "{'a', 'g', 'n', 'r', 's'}"
      ]
     },
     "execution_count": 87,
     "metadata": {},
     "output_type": "execute_result"
    }
   ],
   "source": [
    "A = {x for x in word_py2 if x in word_py1} # intersection\n",
    "B = {x for x in list(word_py2) + list(word_py1)} # union\n",
    "{x for x in B if x not in A} # symmetric difference"
   ]
  },
  {
   "cell_type": "markdown",
   "metadata": {},
   "source": [
    "## List Comprehension - Runtime Performances"
   ]
  },
  {
   "cell_type": "code",
   "execution_count": 97,
   "metadata": {},
   "outputs": [
    {
     "name": "stdout",
     "output_type": "stream",
     "text": [
      "[2, 3, 5, 7, 11, 13, 17, 19, 23, 29, 31, 37, 41, 43, 47, 53, 59, 61, 67, 71, 73, 79, 83, 89, 97]\n",
      "Time 0 :  0.0005240934861490132\n",
      "\n",
      "[2, 3, 5, 7, 11, 13, 17, 19, 23, 29, 31, 37, 41, 43, 47, 53, 59, 61, 67, 71, 73, 79, 83, 89, 97]\n",
      "Time 1 :  0.0009349406411445216\n",
      "\n",
      "[2, 3, 5, 7, 11, 13, 17, 19, 23, 29, 31, 37, 41, 43, 47, 53, 59, 61, 67, 71, 73, 79, 83, 89, 97]\n",
      "Time 2 :  0.00029167514369987657\n",
      "\n"
     ]
    }
   ],
   "source": [
    "import timeit\n",
    "\n",
    "##  Looping without list comprehension\n",
    "t1 = timeit.default_timer()\n",
    "prime = []\n",
    "A = []\n",
    "for i in range(2, 11):\n",
    "    for j in range(i*2, 100, i):\n",
    "        A.append(j)\n",
    "for x in range(2, 100):\n",
    "    if x not in A:\n",
    "        prime.append(x)\n",
    "print(prime)\n",
    "t2 = timeit.default_timer()\n",
    "print('Time 0 : ', t2 - t1, end='\\n\\n')\n",
    "\n",
    "##  list comprehension\n",
    "t1 = timeit.default_timer()\n",
    "print([x for x in range(2, 100) if x not in (j for i in range(2, 11) for j in range(i*2, 100, i))])\n",
    "t2 = timeit.default_timer()\n",
    "print('Time 1 : ', t2 - t1, end='\\n\\n')\n",
    "\n",
    "##  list comprehension 2\n",
    "t1 = timeit.default_timer()\n",
    "A = [j for i in range(2, 11) for j in range(i*2, 100, i)]\n",
    "print([x for x in range(2, 100) if x not in A])\n",
    "t2 = timeit.default_timer()\n",
    "print('Time 2 : ', t2 - t1, end='\\n\\n')"
   ]
  },
  {
   "cell_type": "code",
   "execution_count": null,
   "metadata": {},
   "outputs": [],
   "source": []
  }
 ],
 "metadata": {
  "kernelspec": {
   "display_name": "Python 3",
   "language": "python",
   "name": "python3"
  },
  "language_info": {
   "codemirror_mode": {
    "name": "ipython",
    "version": 3
   },
   "file_extension": ".py",
   "mimetype": "text/x-python",
   "name": "python",
   "nbconvert_exporter": "python",
   "pygments_lexer": "ipython3",
   "version": "3.6.5"
  }
 },
 "nbformat": 4,
 "nbformat_minor": 2
}
